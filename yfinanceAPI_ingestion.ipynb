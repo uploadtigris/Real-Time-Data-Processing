{
 "cells": [
  {
   "cell_type": "code",
   "execution_count": 50,
   "id": "e58fd1a9-97bb-4ef3-b7cb-1b0d34db0c69",
   "metadata": {},
   "outputs": [
    {
     "name": "stdout",
     "output_type": "stream",
     "text": [
      "Requirement already satisfied: yfinance in c:\\users\\runni\\appdata\\local\\programs\\python\\python313\\lib\\site-packages (0.2.55)\n",
      "Requirement already satisfied: pandas>=1.3.0 in c:\\users\\runni\\appdata\\local\\programs\\python\\python313\\lib\\site-packages (from yfinance) (2.2.3)\n",
      "Requirement already satisfied: numpy>=1.16.5 in c:\\users\\runni\\appdata\\local\\programs\\python\\python313\\lib\\site-packages (from yfinance) (2.2.4)\n",
      "Requirement already satisfied: requests>=2.31 in c:\\users\\runni\\appdata\\local\\programs\\python\\python313\\lib\\site-packages (from yfinance) (2.32.3)\n",
      "Requirement already satisfied: multitasking>=0.0.7 in c:\\users\\runni\\appdata\\local\\programs\\python\\python313\\lib\\site-packages (from yfinance) (0.0.11)\n",
      "Requirement already satisfied: platformdirs>=2.0.0 in c:\\users\\runni\\appdata\\local\\programs\\python\\python313\\lib\\site-packages (from yfinance) (4.3.7)\n",
      "Requirement already satisfied: pytz>=2022.5 in c:\\users\\runni\\appdata\\local\\programs\\python\\python313\\lib\\site-packages (from yfinance) (2025.2)\n",
      "Requirement already satisfied: frozendict>=2.3.4 in c:\\users\\runni\\appdata\\local\\programs\\python\\python313\\lib\\site-packages (from yfinance) (2.4.6)\n",
      "Requirement already satisfied: peewee>=3.16.2 in c:\\users\\runni\\appdata\\local\\programs\\python\\python313\\lib\\site-packages (from yfinance) (3.17.9)\n",
      "Requirement already satisfied: beautifulsoup4>=4.11.1 in c:\\users\\runni\\appdata\\local\\programs\\python\\python313\\lib\\site-packages (from yfinance) (4.13.3)\n",
      "Requirement already satisfied: soupsieve>1.2 in c:\\users\\runni\\appdata\\local\\programs\\python\\python313\\lib\\site-packages (from beautifulsoup4>=4.11.1->yfinance) (2.6)\n",
      "Requirement already satisfied: typing-extensions>=4.0.0 in c:\\users\\runni\\appdata\\local\\programs\\python\\python313\\lib\\site-packages (from beautifulsoup4>=4.11.1->yfinance) (4.13.0)\n",
      "Requirement already satisfied: python-dateutil>=2.8.2 in c:\\users\\runni\\appdata\\local\\programs\\python\\python313\\lib\\site-packages (from pandas>=1.3.0->yfinance) (2.9.0.post0)\n",
      "Requirement already satisfied: tzdata>=2022.7 in c:\\users\\runni\\appdata\\local\\programs\\python\\python313\\lib\\site-packages (from pandas>=1.3.0->yfinance) (2025.2)\n",
      "Requirement already satisfied: charset-normalizer<4,>=2 in c:\\users\\runni\\appdata\\local\\programs\\python\\python313\\lib\\site-packages (from requests>=2.31->yfinance) (3.4.1)\n",
      "Requirement already satisfied: idna<4,>=2.5 in c:\\users\\runni\\appdata\\local\\programs\\python\\python313\\lib\\site-packages (from requests>=2.31->yfinance) (3.10)\n",
      "Requirement already satisfied: urllib3<3,>=1.21.1 in c:\\users\\runni\\appdata\\local\\programs\\python\\python313\\lib\\site-packages (from requests>=2.31->yfinance) (2.3.0)\n",
      "Requirement already satisfied: certifi>=2017.4.17 in c:\\users\\runni\\appdata\\local\\programs\\python\\python313\\lib\\site-packages (from requests>=2.31->yfinance) (2025.1.31)\n",
      "Requirement already satisfied: six>=1.5 in c:\\users\\runni\\appdata\\local\\programs\\python\\python313\\lib\\site-packages (from python-dateutil>=2.8.2->pandas>=1.3.0->yfinance) (1.17.0)\n",
      "Note: you may need to restart the kernel to use updated packages.\n",
      "Requirement already satisfied: pandas_datareader in c:\\users\\runni\\appdata\\local\\programs\\python\\python313\\lib\\site-packages (0.10.0)\n",
      "Requirement already satisfied: lxml in c:\\users\\runni\\appdata\\local\\programs\\python\\python313\\lib\\site-packages (from pandas_datareader) (5.3.1)\n",
      "Requirement already satisfied: pandas>=0.23 in c:\\users\\runni\\appdata\\local\\programs\\python\\python313\\lib\\site-packages (from pandas_datareader) (2.2.3)\n",
      "Requirement already satisfied: requests>=2.19.0 in c:\\users\\runni\\appdata\\local\\programs\\python\\python313\\lib\\site-packages (from pandas_datareader) (2.32.3)\n",
      "Requirement already satisfied: numpy>=1.26.0 in c:\\users\\runni\\appdata\\local\\programs\\python\\python313\\lib\\site-packages (from pandas>=0.23->pandas_datareader) (2.2.4)\n",
      "Requirement already satisfied: python-dateutil>=2.8.2 in c:\\users\\runni\\appdata\\local\\programs\\python\\python313\\lib\\site-packages (from pandas>=0.23->pandas_datareader) (2.9.0.post0)\n",
      "Requirement already satisfied: pytz>=2020.1 in c:\\users\\runni\\appdata\\local\\programs\\python\\python313\\lib\\site-packages (from pandas>=0.23->pandas_datareader) (2025.2)\n",
      "Requirement already satisfied: tzdata>=2022.7 in c:\\users\\runni\\appdata\\local\\programs\\python\\python313\\lib\\site-packages (from pandas>=0.23->pandas_datareader) (2025.2)\n",
      "Requirement already satisfied: charset-normalizer<4,>=2 in c:\\users\\runni\\appdata\\local\\programs\\python\\python313\\lib\\site-packages (from requests>=2.19.0->pandas_datareader) (3.4.1)\n",
      "Requirement already satisfied: idna<4,>=2.5 in c:\\users\\runni\\appdata\\local\\programs\\python\\python313\\lib\\site-packages (from requests>=2.19.0->pandas_datareader) (3.10)\n",
      "Requirement already satisfied: urllib3<3,>=1.21.1 in c:\\users\\runni\\appdata\\local\\programs\\python\\python313\\lib\\site-packages (from requests>=2.19.0->pandas_datareader) (2.3.0)\n",
      "Requirement already satisfied: certifi>=2017.4.17 in c:\\users\\runni\\appdata\\local\\programs\\python\\python313\\lib\\site-packages (from requests>=2.19.0->pandas_datareader) (2025.1.31)\n",
      "Requirement already satisfied: six>=1.5 in c:\\users\\runni\\appdata\\local\\programs\\python\\python313\\lib\\site-packages (from python-dateutil>=2.8.2->pandas>=0.23->pandas_datareader) (1.17.0)\n",
      "Note: you may need to restart the kernel to use updated packages.\n",
      "Requirement already satisfied: pandas in c:\\users\\runni\\appdata\\local\\programs\\python\\python313\\lib\\site-packages (2.2.3)\n",
      "Requirement already satisfied: numpy>=1.26.0 in c:\\users\\runni\\appdata\\local\\programs\\python\\python313\\lib\\site-packages (from pandas) (2.2.4)\n",
      "Requirement already satisfied: python-dateutil>=2.8.2 in c:\\users\\runni\\appdata\\local\\programs\\python\\python313\\lib\\site-packages (from pandas) (2.9.0.post0)\n",
      "Requirement already satisfied: pytz>=2020.1 in c:\\users\\runni\\appdata\\local\\programs\\python\\python313\\lib\\site-packages (from pandas) (2025.2)\n",
      "Requirement already satisfied: tzdata>=2022.7 in c:\\users\\runni\\appdata\\local\\programs\\python\\python313\\lib\\site-packages (from pandas) (2025.2)\n",
      "Requirement already satisfied: six>=1.5 in c:\\users\\runni\\appdata\\local\\programs\\python\\python313\\lib\\site-packages (from python-dateutil>=2.8.2->pandas) (1.17.0)\n",
      "Note: you may need to restart the kernel to use updated packages.\n",
      "Requirement already satisfied: fredapi in c:\\users\\runni\\appdata\\local\\programs\\python\\python313\\lib\\site-packages (0.5.2)\n",
      "Requirement already satisfied: pandas in c:\\users\\runni\\appdata\\local\\programs\\python\\python313\\lib\\site-packages (from fredapi) (2.2.3)\n",
      "Requirement already satisfied: numpy>=1.26.0 in c:\\users\\runni\\appdata\\local\\programs\\python\\python313\\lib\\site-packages (from pandas->fredapi) (2.2.4)\n",
      "Requirement already satisfied: python-dateutil>=2.8.2 in c:\\users\\runni\\appdata\\local\\programs\\python\\python313\\lib\\site-packages (from pandas->fredapi) (2.9.0.post0)\n",
      "Requirement already satisfied: pytz>=2020.1 in c:\\users\\runni\\appdata\\local\\programs\\python\\python313\\lib\\site-packages (from pandas->fredapi) (2025.2)\n",
      "Requirement already satisfied: tzdata>=2022.7 in c:\\users\\runni\\appdata\\local\\programs\\python\\python313\\lib\\site-packages (from pandas->fredapi) (2025.2)\n",
      "Requirement already satisfied: six>=1.5 in c:\\users\\runni\\appdata\\local\\programs\\python\\python313\\lib\\site-packages (from python-dateutil>=2.8.2->pandas->fredapi) (1.17.0)\n",
      "Note: you may need to restart the kernel to use updated packages.\n",
      "Requirement already satisfied: plotly in c:\\users\\runni\\appdata\\local\\programs\\python\\python313\\lib\\site-packages (6.0.1)\n",
      "Requirement already satisfied: narwhals>=1.15.1 in c:\\users\\runni\\appdata\\local\\programs\\python\\python313\\lib\\site-packages (from plotly) (1.32.0)\n",
      "Requirement already satisfied: packaging in c:\\users\\runni\\appdata\\local\\programs\\python\\python313\\lib\\site-packages (from plotly) (24.2)\n",
      "Note: you may need to restart the kernel to use updated packages.\n"
     ]
    }
   ],
   "source": [
    "# yfinance\n",
    "## https://github.com/ranaroussi/yfinance\n",
    "%pip install yfinance\n",
    "%pip install pandas_datareader\n",
    "%pip install pandas\n",
    "%pip install fredapi\n",
    "%pip install plotly"
   ]
  },
  {
   "cell_type": "code",
   "execution_count": null,
   "id": "a2a28a79",
   "metadata": {},
   "outputs": [],
   "source": [
    "# Import libraries\n",
    "import yfinance as yf\n",
    "from fredapi import Fred\n",
    "import pandas as pd\n",
    "from pandas_datareader import data as pdr\n",
    "import datetime\n",
    "import matplotlib.pyplot as plt\n",
    "import matplotlib.ticker as ticker\n",
    "import plotly.graph_objects as go\n",
    "from plotly.subplots import make_subplots"
   ]
  },
  {
   "cell_type": "markdown",
   "id": "f343811c",
   "metadata": {},
   "source": [
    "### Accessing the FRED API \n",
    "\n",
    "Instrument ~ FRED Series ID\n",
    "Federal Funds Rate -> DFF\n",
    "10-Year Treasury Yield -> DGS10\n",
    "3-Month Treasury Yield -> DGS3MO\n",
    "Prime Rate\tDPRIME -> \n",
    "30-Year Fixed Mortgage -> MORTGAGE30US"
   ]
  },
  {
   "cell_type": "code",
   "execution_count": 26,
   "id": "ff0f4cbf",
   "metadata": {},
   "outputs": [],
   "source": [
    "# Get FRED API key (free registration required)\n",
    "fred_api_key = \"9c140ea0f67a9e984f14732be1d17106\"  # Get from https://research.stlouisfed.org/useraccount/\n",
    "\n",
    "fred = Fred(api_key=fred_api_key)  # Get key from FRED website\n",
    "\n",
    "start = datetime.datetime(2018, 1, 1)\n",
    "end = datetime.datetime(2019, 12, 31)\n",
    "\n",
    "# Federal funds rate series\n",
    "ffr = fred.get_series('DFF', start, end)\n"
   ]
  },
  {
   "cell_type": "markdown",
   "id": "a5f4f06f",
   "metadata": {},
   "source": [
    "Formatting & Conversion to a Pandas DF"
   ]
  },
  {
   "cell_type": "code",
   "execution_count": 27,
   "id": "4a9b8c39",
   "metadata": {},
   "outputs": [
    {
     "name": "stdout",
     "output_type": "stream",
     "text": [
      "          date   ffr\n",
      "0   2018-01-01  1.33\n",
      "1   2018-01-02  1.42\n",
      "2   2018-01-03  1.42\n",
      "3   2018-01-04  1.42\n",
      "4   2018-01-05  1.42\n",
      "..         ...   ...\n",
      "725 2019-12-27  1.55\n",
      "726 2019-12-28  1.55\n",
      "727 2019-12-29  1.55\n",
      "728 2019-12-30  1.55\n",
      "729 2019-12-31  1.55\n",
      "\n",
      "[730 rows x 2 columns]\n"
     ]
    }
   ],
   "source": [
    "# Convert to pandas Series\n",
    "series_data = pd.Series(ffr)\n",
    "\n",
    "# Convert Series to DataFrame\n",
    "ffr = series_data.reset_index()\n",
    "\n",
    "# Rename columns\n",
    "ffr.columns = ['date', 'ffr']\n",
    "\n",
    "# Display the resulting DataFrame\n",
    "print(ffr)"
   ]
  },
  {
   "cell_type": "markdown",
   "id": "9e47ea1c",
   "metadata": {},
   "source": [
    "#### Sanity Checks"
   ]
  },
  {
   "cell_type": "code",
   "execution_count": 28,
   "id": "94df4b7c",
   "metadata": {},
   "outputs": [
    {
     "data": {
      "text/plain": [
       "(730, 2)"
      ]
     },
     "execution_count": 28,
     "metadata": {},
     "output_type": "execute_result"
    }
   ],
   "source": [
    "ffr.shape"
   ]
  },
  {
   "cell_type": "code",
   "execution_count": 29,
   "id": "a3e9b67d",
   "metadata": {},
   "outputs": [
    {
     "data": {
      "text/html": [
       "<div>\n",
       "<style scoped>\n",
       "    .dataframe tbody tr th:only-of-type {\n",
       "        vertical-align: middle;\n",
       "    }\n",
       "\n",
       "    .dataframe tbody tr th {\n",
       "        vertical-align: top;\n",
       "    }\n",
       "\n",
       "    .dataframe thead th {\n",
       "        text-align: right;\n",
       "    }\n",
       "</style>\n",
       "<table border=\"1\" class=\"dataframe\">\n",
       "  <thead>\n",
       "    <tr style=\"text-align: right;\">\n",
       "      <th></th>\n",
       "      <th>date</th>\n",
       "      <th>ffr</th>\n",
       "    </tr>\n",
       "  </thead>\n",
       "  <tbody>\n",
       "    <tr>\n",
       "      <th>0</th>\n",
       "      <td>2018-01-01</td>\n",
       "      <td>1.33</td>\n",
       "    </tr>\n",
       "    <tr>\n",
       "      <th>1</th>\n",
       "      <td>2018-01-02</td>\n",
       "      <td>1.42</td>\n",
       "    </tr>\n",
       "    <tr>\n",
       "      <th>2</th>\n",
       "      <td>2018-01-03</td>\n",
       "      <td>1.42</td>\n",
       "    </tr>\n",
       "    <tr>\n",
       "      <th>3</th>\n",
       "      <td>2018-01-04</td>\n",
       "      <td>1.42</td>\n",
       "    </tr>\n",
       "    <tr>\n",
       "      <th>4</th>\n",
       "      <td>2018-01-05</td>\n",
       "      <td>1.42</td>\n",
       "    </tr>\n",
       "  </tbody>\n",
       "</table>\n",
       "</div>"
      ],
      "text/plain": [
       "        date   ffr\n",
       "0 2018-01-01  1.33\n",
       "1 2018-01-02  1.42\n",
       "2 2018-01-03  1.42\n",
       "3 2018-01-04  1.42\n",
       "4 2018-01-05  1.42"
      ]
     },
     "execution_count": 29,
     "metadata": {},
     "output_type": "execute_result"
    }
   ],
   "source": [
    "ffr.head(5)"
   ]
  },
  {
   "cell_type": "code",
   "execution_count": 30,
   "id": "338e6221",
   "metadata": {},
   "outputs": [
    {
     "data": {
      "text/html": [
       "<div>\n",
       "<style scoped>\n",
       "    .dataframe tbody tr th:only-of-type {\n",
       "        vertical-align: middle;\n",
       "    }\n",
       "\n",
       "    .dataframe tbody tr th {\n",
       "        vertical-align: top;\n",
       "    }\n",
       "\n",
       "    .dataframe thead th {\n",
       "        text-align: right;\n",
       "    }\n",
       "</style>\n",
       "<table border=\"1\" class=\"dataframe\">\n",
       "  <thead>\n",
       "    <tr style=\"text-align: right;\">\n",
       "      <th></th>\n",
       "      <th>date</th>\n",
       "      <th>ffr</th>\n",
       "    </tr>\n",
       "  </thead>\n",
       "  <tbody>\n",
       "    <tr>\n",
       "      <th>725</th>\n",
       "      <td>2019-12-27</td>\n",
       "      <td>1.55</td>\n",
       "    </tr>\n",
       "    <tr>\n",
       "      <th>726</th>\n",
       "      <td>2019-12-28</td>\n",
       "      <td>1.55</td>\n",
       "    </tr>\n",
       "    <tr>\n",
       "      <th>727</th>\n",
       "      <td>2019-12-29</td>\n",
       "      <td>1.55</td>\n",
       "    </tr>\n",
       "    <tr>\n",
       "      <th>728</th>\n",
       "      <td>2019-12-30</td>\n",
       "      <td>1.55</td>\n",
       "    </tr>\n",
       "    <tr>\n",
       "      <th>729</th>\n",
       "      <td>2019-12-31</td>\n",
       "      <td>1.55</td>\n",
       "    </tr>\n",
       "  </tbody>\n",
       "</table>\n",
       "</div>"
      ],
      "text/plain": [
       "          date   ffr\n",
       "725 2019-12-27  1.55\n",
       "726 2019-12-28  1.55\n",
       "727 2019-12-29  1.55\n",
       "728 2019-12-30  1.55\n",
       "729 2019-12-31  1.55"
      ]
     },
     "execution_count": 30,
     "metadata": {},
     "output_type": "execute_result"
    }
   ],
   "source": [
    "ffr.tail(5)"
   ]
  },
  {
   "cell_type": "code",
   "execution_count": 31,
   "id": "5d27d87a",
   "metadata": {},
   "outputs": [
    {
     "name": "stdout",
     "output_type": "stream",
     "text": [
      "<class 'pandas.core.frame.DataFrame'>\n",
      "RangeIndex: 730 entries, 0 to 729\n",
      "Data columns (total 2 columns):\n",
      " #   Column  Non-Null Count  Dtype         \n",
      "---  ------  --------------  -----         \n",
      " 0   date    730 non-null    datetime64[ns]\n",
      " 1   ffr     730 non-null    float64       \n",
      "dtypes: datetime64[ns](1), float64(1)\n",
      "memory usage: 11.5 KB\n"
     ]
    }
   ],
   "source": [
    "ffr.info()"
   ]
  },
  {
   "cell_type": "code",
   "execution_count": 32,
   "id": "a02b3053",
   "metadata": {},
   "outputs": [
    {
     "data": {
      "text/html": [
       "<div>\n",
       "<style scoped>\n",
       "    .dataframe tbody tr th:only-of-type {\n",
       "        vertical-align: middle;\n",
       "    }\n",
       "\n",
       "    .dataframe tbody tr th {\n",
       "        vertical-align: top;\n",
       "    }\n",
       "\n",
       "    .dataframe thead th {\n",
       "        text-align: right;\n",
       "    }\n",
       "</style>\n",
       "<table border=\"1\" class=\"dataframe\">\n",
       "  <thead>\n",
       "    <tr style=\"text-align: right;\">\n",
       "      <th></th>\n",
       "      <th>date</th>\n",
       "      <th>ffr</th>\n",
       "    </tr>\n",
       "  </thead>\n",
       "  <tbody>\n",
       "    <tr>\n",
       "      <th>count</th>\n",
       "      <td>730</td>\n",
       "      <td>730.000000</td>\n",
       "    </tr>\n",
       "    <tr>\n",
       "      <th>mean</th>\n",
       "      <td>2018-12-31 12:00:00</td>\n",
       "      <td>1.996096</td>\n",
       "    </tr>\n",
       "    <tr>\n",
       "      <th>min</th>\n",
       "      <td>2018-01-01 00:00:00</td>\n",
       "      <td>1.330000</td>\n",
       "    </tr>\n",
       "    <tr>\n",
       "      <th>25%</th>\n",
       "      <td>2018-07-02 06:00:00</td>\n",
       "      <td>1.700000</td>\n",
       "    </tr>\n",
       "    <tr>\n",
       "      <th>50%</th>\n",
       "      <td>2018-12-31 12:00:00</td>\n",
       "      <td>1.920000</td>\n",
       "    </tr>\n",
       "    <tr>\n",
       "      <th>75%</th>\n",
       "      <td>2019-07-01 18:00:00</td>\n",
       "      <td>2.390000</td>\n",
       "    </tr>\n",
       "    <tr>\n",
       "      <th>max</th>\n",
       "      <td>2019-12-31 00:00:00</td>\n",
       "      <td>2.450000</td>\n",
       "    </tr>\n",
       "    <tr>\n",
       "      <th>std</th>\n",
       "      <td>NaN</td>\n",
       "      <td>0.349612</td>\n",
       "    </tr>\n",
       "  </tbody>\n",
       "</table>\n",
       "</div>"
      ],
      "text/plain": [
       "                      date         ffr\n",
       "count                  730  730.000000\n",
       "mean   2018-12-31 12:00:00    1.996096\n",
       "min    2018-01-01 00:00:00    1.330000\n",
       "25%    2018-07-02 06:00:00    1.700000\n",
       "50%    2018-12-31 12:00:00    1.920000\n",
       "75%    2019-07-01 18:00:00    2.390000\n",
       "max    2019-12-31 00:00:00    2.450000\n",
       "std                    NaN    0.349612"
      ]
     },
     "execution_count": 32,
     "metadata": {},
     "output_type": "execute_result"
    }
   ],
   "source": [
    "ffr.describe()"
   ]
  },
  {
   "cell_type": "markdown",
   "id": "d07cb4a4",
   "metadata": {},
   "source": [
    "#### Python Date-Time Conversion"
   ]
  },
  {
   "cell_type": "code",
   "execution_count": 33,
   "id": "22ae9aee",
   "metadata": {},
   "outputs": [
    {
     "data": {
      "text/html": [
       "<div>\n",
       "<style scoped>\n",
       "    .dataframe tbody tr th:only-of-type {\n",
       "        vertical-align: middle;\n",
       "    }\n",
       "\n",
       "    .dataframe tbody tr th {\n",
       "        vertical-align: top;\n",
       "    }\n",
       "\n",
       "    .dataframe thead th {\n",
       "        text-align: right;\n",
       "    }\n",
       "</style>\n",
       "<table border=\"1\" class=\"dataframe\">\n",
       "  <thead>\n",
       "    <tr style=\"text-align: right;\">\n",
       "      <th></th>\n",
       "      <th>date</th>\n",
       "      <th>ffr</th>\n",
       "      <th>year</th>\n",
       "      <th>month</th>\n",
       "      <th>day</th>\n",
       "      <th>day_name</th>\n",
       "    </tr>\n",
       "  </thead>\n",
       "  <tbody>\n",
       "    <tr>\n",
       "      <th>0</th>\n",
       "      <td>2018-01-01</td>\n",
       "      <td>1.33</td>\n",
       "      <td>2018</td>\n",
       "      <td>1</td>\n",
       "      <td>1</td>\n",
       "      <td>Monday</td>\n",
       "    </tr>\n",
       "    <tr>\n",
       "      <th>1</th>\n",
       "      <td>2018-01-02</td>\n",
       "      <td>1.42</td>\n",
       "      <td>2018</td>\n",
       "      <td>1</td>\n",
       "      <td>2</td>\n",
       "      <td>Tuesday</td>\n",
       "    </tr>\n",
       "    <tr>\n",
       "      <th>2</th>\n",
       "      <td>2018-01-03</td>\n",
       "      <td>1.42</td>\n",
       "      <td>2018</td>\n",
       "      <td>1</td>\n",
       "      <td>3</td>\n",
       "      <td>Wednesday</td>\n",
       "    </tr>\n",
       "    <tr>\n",
       "      <th>3</th>\n",
       "      <td>2018-01-04</td>\n",
       "      <td>1.42</td>\n",
       "      <td>2018</td>\n",
       "      <td>1</td>\n",
       "      <td>4</td>\n",
       "      <td>Thursday</td>\n",
       "    </tr>\n",
       "    <tr>\n",
       "      <th>4</th>\n",
       "      <td>2018-01-05</td>\n",
       "      <td>1.42</td>\n",
       "      <td>2018</td>\n",
       "      <td>1</td>\n",
       "      <td>5</td>\n",
       "      <td>Friday</td>\n",
       "    </tr>\n",
       "  </tbody>\n",
       "</table>\n",
       "</div>"
      ],
      "text/plain": [
       "        date   ffr  year  month  day   day_name\n",
       "0 2018-01-01  1.33  2018      1    1     Monday\n",
       "1 2018-01-02  1.42  2018      1    2    Tuesday\n",
       "2 2018-01-03  1.42  2018      1    3  Wednesday\n",
       "3 2018-01-04  1.42  2018      1    4   Thursday\n",
       "4 2018-01-05  1.42  2018      1    5     Friday"
      ]
     },
     "execution_count": 33,
     "metadata": {},
     "output_type": "execute_result"
    }
   ],
   "source": [
    "# convert column Date to datetime\n",
    "ffr['date']=pd.to_datetime(ffr['date'])\n",
    "\n",
    "# create year\n",
    "ffr['year']=ffr['date'].dt.year\n",
    "ffr['month']=ffr['date'].dt.month\n",
    "ffr['day']=ffr['date'].dt.day\n",
    "ffr['day_name']=ffr['date'].dt.day_name()\n",
    "\n",
    "#check if the column names were created\n",
    "ffr.head()"
   ]
  },
  {
   "cell_type": "markdown",
   "id": "99343258",
   "metadata": {},
   "source": [
    "### Accessing the Yahoo Finance data"
   ]
  },
  {
   "cell_type": "code",
   "execution_count": 34,
   "id": "1761b744",
   "metadata": {},
   "outputs": [],
   "source": [
    "# yfinance documentation -> (https://yfinance-python.org/)\n",
    "\n",
    "# For broad market data (S&P 500 example)\n",
    "market_data = yf.download(\n",
    "    '^GSPC',\n",
    "    start='2018-01-01',\n",
    "    end='2019-12-31',\n",
    "    progress=False\n",
    ")"
   ]
  },
  {
   "cell_type": "markdown",
   "id": "88811fb4",
   "metadata": {},
   "source": [
    "#### Sanity Checks"
   ]
  },
  {
   "cell_type": "code",
   "execution_count": 35,
   "id": "3b60160c",
   "metadata": {},
   "outputs": [
    {
     "data": {
      "text/plain": [
       "(502, 5)"
      ]
     },
     "execution_count": 35,
     "metadata": {},
     "output_type": "execute_result"
    }
   ],
   "source": [
    "market_data.shape"
   ]
  },
  {
   "cell_type": "code",
   "execution_count": 36,
   "id": "bebc9a89",
   "metadata": {},
   "outputs": [
    {
     "data": {
      "text/html": [
       "<div>\n",
       "<style scoped>\n",
       "    .dataframe tbody tr th:only-of-type {\n",
       "        vertical-align: middle;\n",
       "    }\n",
       "\n",
       "    .dataframe tbody tr th {\n",
       "        vertical-align: top;\n",
       "    }\n",
       "\n",
       "    .dataframe thead tr th {\n",
       "        text-align: left;\n",
       "    }\n",
       "\n",
       "    .dataframe thead tr:last-of-type th {\n",
       "        text-align: right;\n",
       "    }\n",
       "</style>\n",
       "<table border=\"1\" class=\"dataframe\">\n",
       "  <thead>\n",
       "    <tr>\n",
       "      <th>Price</th>\n",
       "      <th>Close</th>\n",
       "      <th>High</th>\n",
       "      <th>Low</th>\n",
       "      <th>Open</th>\n",
       "      <th>Volume</th>\n",
       "    </tr>\n",
       "    <tr>\n",
       "      <th>Ticker</th>\n",
       "      <th>^GSPC</th>\n",
       "      <th>^GSPC</th>\n",
       "      <th>^GSPC</th>\n",
       "      <th>^GSPC</th>\n",
       "      <th>^GSPC</th>\n",
       "    </tr>\n",
       "    <tr>\n",
       "      <th>Date</th>\n",
       "      <th></th>\n",
       "      <th></th>\n",
       "      <th></th>\n",
       "      <th></th>\n",
       "      <th></th>\n",
       "    </tr>\n",
       "  </thead>\n",
       "  <tbody>\n",
       "    <tr>\n",
       "      <th>2018-01-02</th>\n",
       "      <td>2695.810059</td>\n",
       "      <td>2695.889893</td>\n",
       "      <td>2682.360107</td>\n",
       "      <td>2683.729980</td>\n",
       "      <td>3397430000</td>\n",
       "    </tr>\n",
       "    <tr>\n",
       "      <th>2018-01-03</th>\n",
       "      <td>2713.060059</td>\n",
       "      <td>2714.370117</td>\n",
       "      <td>2697.770020</td>\n",
       "      <td>2697.850098</td>\n",
       "      <td>3544030000</td>\n",
       "    </tr>\n",
       "    <tr>\n",
       "      <th>2018-01-04</th>\n",
       "      <td>2723.989990</td>\n",
       "      <td>2729.290039</td>\n",
       "      <td>2719.070068</td>\n",
       "      <td>2719.310059</td>\n",
       "      <td>3697340000</td>\n",
       "    </tr>\n",
       "    <tr>\n",
       "      <th>2018-01-05</th>\n",
       "      <td>2743.149902</td>\n",
       "      <td>2743.449951</td>\n",
       "      <td>2727.919922</td>\n",
       "      <td>2731.330078</td>\n",
       "      <td>3239280000</td>\n",
       "    </tr>\n",
       "    <tr>\n",
       "      <th>2018-01-08</th>\n",
       "      <td>2747.709961</td>\n",
       "      <td>2748.510010</td>\n",
       "      <td>2737.600098</td>\n",
       "      <td>2742.669922</td>\n",
       "      <td>3246160000</td>\n",
       "    </tr>\n",
       "  </tbody>\n",
       "</table>\n",
       "</div>"
      ],
      "text/plain": [
       "Price             Close         High          Low         Open      Volume\n",
       "Ticker            ^GSPC        ^GSPC        ^GSPC        ^GSPC       ^GSPC\n",
       "Date                                                                      \n",
       "2018-01-02  2695.810059  2695.889893  2682.360107  2683.729980  3397430000\n",
       "2018-01-03  2713.060059  2714.370117  2697.770020  2697.850098  3544030000\n",
       "2018-01-04  2723.989990  2729.290039  2719.070068  2719.310059  3697340000\n",
       "2018-01-05  2743.149902  2743.449951  2727.919922  2731.330078  3239280000\n",
       "2018-01-08  2747.709961  2748.510010  2737.600098  2742.669922  3246160000"
      ]
     },
     "execution_count": 36,
     "metadata": {},
     "output_type": "execute_result"
    }
   ],
   "source": [
    "market_data.head()"
   ]
  },
  {
   "cell_type": "code",
   "execution_count": 37,
   "id": "16fc9100",
   "metadata": {},
   "outputs": [
    {
     "data": {
      "text/html": [
       "<div>\n",
       "<style scoped>\n",
       "    .dataframe tbody tr th:only-of-type {\n",
       "        vertical-align: middle;\n",
       "    }\n",
       "\n",
       "    .dataframe tbody tr th {\n",
       "        vertical-align: top;\n",
       "    }\n",
       "\n",
       "    .dataframe thead tr th {\n",
       "        text-align: left;\n",
       "    }\n",
       "\n",
       "    .dataframe thead tr:last-of-type th {\n",
       "        text-align: right;\n",
       "    }\n",
       "</style>\n",
       "<table border=\"1\" class=\"dataframe\">\n",
       "  <thead>\n",
       "    <tr>\n",
       "      <th>Price</th>\n",
       "      <th>Close</th>\n",
       "      <th>High</th>\n",
       "      <th>Low</th>\n",
       "      <th>Open</th>\n",
       "      <th>Volume</th>\n",
       "    </tr>\n",
       "    <tr>\n",
       "      <th>Ticker</th>\n",
       "      <th>^GSPC</th>\n",
       "      <th>^GSPC</th>\n",
       "      <th>^GSPC</th>\n",
       "      <th>^GSPC</th>\n",
       "      <th>^GSPC</th>\n",
       "    </tr>\n",
       "    <tr>\n",
       "      <th>Date</th>\n",
       "      <th></th>\n",
       "      <th></th>\n",
       "      <th></th>\n",
       "      <th></th>\n",
       "      <th></th>\n",
       "    </tr>\n",
       "  </thead>\n",
       "  <tbody>\n",
       "    <tr>\n",
       "      <th>2019-12-23</th>\n",
       "      <td>3224.010010</td>\n",
       "      <td>3227.780029</td>\n",
       "      <td>3222.300049</td>\n",
       "      <td>3226.050049</td>\n",
       "      <td>3064530000</td>\n",
       "    </tr>\n",
       "    <tr>\n",
       "      <th>2019-12-24</th>\n",
       "      <td>3223.379883</td>\n",
       "      <td>3226.429932</td>\n",
       "      <td>3220.510010</td>\n",
       "      <td>3225.449951</td>\n",
       "      <td>1296530000</td>\n",
       "    </tr>\n",
       "    <tr>\n",
       "      <th>2019-12-26</th>\n",
       "      <td>3239.909912</td>\n",
       "      <td>3240.080078</td>\n",
       "      <td>3227.199951</td>\n",
       "      <td>3227.199951</td>\n",
       "      <td>2164540000</td>\n",
       "    </tr>\n",
       "    <tr>\n",
       "      <th>2019-12-27</th>\n",
       "      <td>3240.020020</td>\n",
       "      <td>3247.929932</td>\n",
       "      <td>3234.370117</td>\n",
       "      <td>3247.229980</td>\n",
       "      <td>2429150000</td>\n",
       "    </tr>\n",
       "    <tr>\n",
       "      <th>2019-12-30</th>\n",
       "      <td>3221.290039</td>\n",
       "      <td>3240.919922</td>\n",
       "      <td>3216.570068</td>\n",
       "      <td>3240.090088</td>\n",
       "      <td>3021720000</td>\n",
       "    </tr>\n",
       "  </tbody>\n",
       "</table>\n",
       "</div>"
      ],
      "text/plain": [
       "Price             Close         High          Low         Open      Volume\n",
       "Ticker            ^GSPC        ^GSPC        ^GSPC        ^GSPC       ^GSPC\n",
       "Date                                                                      \n",
       "2019-12-23  3224.010010  3227.780029  3222.300049  3226.050049  3064530000\n",
       "2019-12-24  3223.379883  3226.429932  3220.510010  3225.449951  1296530000\n",
       "2019-12-26  3239.909912  3240.080078  3227.199951  3227.199951  2164540000\n",
       "2019-12-27  3240.020020  3247.929932  3234.370117  3247.229980  2429150000\n",
       "2019-12-30  3221.290039  3240.919922  3216.570068  3240.090088  3021720000"
      ]
     },
     "execution_count": 37,
     "metadata": {},
     "output_type": "execute_result"
    }
   ],
   "source": [
    "market_data.tail()"
   ]
  },
  {
   "cell_type": "code",
   "execution_count": 38,
   "id": "42630e10",
   "metadata": {},
   "outputs": [
    {
     "name": "stdout",
     "output_type": "stream",
     "text": [
      "<class 'pandas.core.frame.DataFrame'>\n",
      "DatetimeIndex: 502 entries, 2018-01-02 to 2019-12-30\n",
      "Data columns (total 5 columns):\n",
      " #   Column           Non-Null Count  Dtype  \n",
      "---  ------           --------------  -----  \n",
      " 0   (Close, ^GSPC)   502 non-null    float64\n",
      " 1   (High, ^GSPC)    502 non-null    float64\n",
      " 2   (Low, ^GSPC)     502 non-null    float64\n",
      " 3   (Open, ^GSPC)    502 non-null    float64\n",
      " 4   (Volume, ^GSPC)  502 non-null    int64  \n",
      "dtypes: float64(4), int64(1)\n",
      "memory usage: 23.5 KB\n"
     ]
    }
   ],
   "source": [
    "market_data.info()"
   ]
  },
  {
   "cell_type": "code",
   "execution_count": 39,
   "id": "22c71da3",
   "metadata": {},
   "outputs": [
    {
     "data": {
      "text/html": [
       "<div>\n",
       "<style scoped>\n",
       "    .dataframe tbody tr th:only-of-type {\n",
       "        vertical-align: middle;\n",
       "    }\n",
       "\n",
       "    .dataframe tbody tr th {\n",
       "        vertical-align: top;\n",
       "    }\n",
       "\n",
       "    .dataframe thead tr th {\n",
       "        text-align: left;\n",
       "    }\n",
       "</style>\n",
       "<table border=\"1\" class=\"dataframe\">\n",
       "  <thead>\n",
       "    <tr>\n",
       "      <th>Price</th>\n",
       "      <th>Close</th>\n",
       "      <th>High</th>\n",
       "      <th>Low</th>\n",
       "      <th>Open</th>\n",
       "      <th>Volume</th>\n",
       "    </tr>\n",
       "    <tr>\n",
       "      <th>Ticker</th>\n",
       "      <th>^GSPC</th>\n",
       "      <th>^GSPC</th>\n",
       "      <th>^GSPC</th>\n",
       "      <th>^GSPC</th>\n",
       "      <th>^GSPC</th>\n",
       "    </tr>\n",
       "  </thead>\n",
       "  <tbody>\n",
       "    <tr>\n",
       "      <th>count</th>\n",
       "      <td>502.000000</td>\n",
       "      <td>502.000000</td>\n",
       "      <td>502.000000</td>\n",
       "      <td>502.000000</td>\n",
       "      <td>5.020000e+02</td>\n",
       "    </tr>\n",
       "    <tr>\n",
       "      <th>mean</th>\n",
       "      <td>2829.152964</td>\n",
       "      <td>2842.520021</td>\n",
       "      <td>2814.239325</td>\n",
       "      <td>2829.164485</td>\n",
       "      <td>3.597969e+09</td>\n",
       "    </tr>\n",
       "    <tr>\n",
       "      <th>std</th>\n",
       "      <td>151.969520</td>\n",
       "      <td>147.347905</td>\n",
       "      <td>156.187502</td>\n",
       "      <td>151.484282</td>\n",
       "      <td>6.342045e+08</td>\n",
       "    </tr>\n",
       "    <tr>\n",
       "      <th>min</th>\n",
       "      <td>2351.100098</td>\n",
       "      <td>2410.340088</td>\n",
       "      <td>2346.580078</td>\n",
       "      <td>2363.120117</td>\n",
       "      <td>1.296530e+09</td>\n",
       "    </tr>\n",
       "    <tr>\n",
       "      <th>25%</th>\n",
       "      <td>2723.300049</td>\n",
       "      <td>2737.892578</td>\n",
       "      <td>2709.269958</td>\n",
       "      <td>2722.632568</td>\n",
       "      <td>3.246240e+09</td>\n",
       "    </tr>\n",
       "    <tr>\n",
       "      <th>50%</th>\n",
       "      <td>2817.330078</td>\n",
       "      <td>2829.949951</td>\n",
       "      <td>2803.724976</td>\n",
       "      <td>2818.545044</td>\n",
       "      <td>3.512535e+09</td>\n",
       "    </tr>\n",
       "    <tr>\n",
       "      <th>75%</th>\n",
       "      <td>2923.709961</td>\n",
       "      <td>2932.377563</td>\n",
       "      <td>2912.329895</td>\n",
       "      <td>2920.512512</td>\n",
       "      <td>3.839550e+09</td>\n",
       "    </tr>\n",
       "    <tr>\n",
       "      <th>max</th>\n",
       "      <td>3240.020020</td>\n",
       "      <td>3247.929932</td>\n",
       "      <td>3234.370117</td>\n",
       "      <td>3247.229980</td>\n",
       "      <td>7.657890e+09</td>\n",
       "    </tr>\n",
       "  </tbody>\n",
       "</table>\n",
       "</div>"
      ],
      "text/plain": [
       "Price         Close         High          Low         Open        Volume\n",
       "Ticker        ^GSPC        ^GSPC        ^GSPC        ^GSPC         ^GSPC\n",
       "count    502.000000   502.000000   502.000000   502.000000  5.020000e+02\n",
       "mean    2829.152964  2842.520021  2814.239325  2829.164485  3.597969e+09\n",
       "std      151.969520   147.347905   156.187502   151.484282  6.342045e+08\n",
       "min     2351.100098  2410.340088  2346.580078  2363.120117  1.296530e+09\n",
       "25%     2723.300049  2737.892578  2709.269958  2722.632568  3.246240e+09\n",
       "50%     2817.330078  2829.949951  2803.724976  2818.545044  3.512535e+09\n",
       "75%     2923.709961  2932.377563  2912.329895  2920.512512  3.839550e+09\n",
       "max     3240.020020  3247.929932  3234.370117  3247.229980  7.657890e+09"
      ]
     },
     "execution_count": 39,
     "metadata": {},
     "output_type": "execute_result"
    }
   ],
   "source": [
    "market_data.describe()"
   ]
  },
  {
   "cell_type": "markdown",
   "id": "6305ca4a",
   "metadata": {},
   "source": [
    "#### Visualize the time distribution"
   ]
  },
  {
   "cell_type": "code",
   "execution_count": null,
   "id": "0e09c301",
   "metadata": {},
   "outputs": [
    {
     "data": {
      "application/vnd.plotly.v1+json": {
       "config": {
        "plotlyServerURL": "https://plot.ly"
       },
       "data": [
        {
         "close": {
          "bdata": "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",
          "dtype": "f8"
         },
         "decreasing": {
          "line": {
           "color": "red"
          }
         },
         "high": {
          "bdata": "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",
          "dtype": "f8"
         },
         "increasing": {
          "line": {
           "color": "green"
          }
         },
         "low": {
          "bdata": "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",
          "dtype": "f8"
         },
         "name": "Price",
         "open": {
          "bdata": "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",
          "dtype": "f8"
         },
         "type": "candlestick",
         "x": [
          "2023-03-29T00:00:00-04:00",
          "2023-03-30T00:00:00-04:00",
          "2023-03-31T00:00:00-04:00",
          "2023-04-03T00:00:00-04:00",
          "2023-04-04T00:00:00-04:00",
          "2023-04-05T00:00:00-04:00",
          "2023-04-06T00:00:00-04:00",
          "2023-04-10T00:00:00-04:00",
          "2023-04-11T00:00:00-04:00",
          "2023-04-12T00:00:00-04:00",
          "2023-04-13T00:00:00-04:00",
          "2023-04-14T00:00:00-04:00",
          "2023-04-17T00:00:00-04:00",
          "2023-04-18T00:00:00-04:00",
          "2023-04-19T00:00:00-04:00",
          "2023-04-20T00:00:00-04:00",
          "2023-04-21T00:00:00-04:00",
          "2023-04-24T00:00:00-04:00",
          "2023-04-25T00:00:00-04:00",
          "2023-04-26T00:00:00-04:00",
          "2023-04-27T00:00:00-04:00",
          "2023-04-28T00:00:00-04:00",
          "2023-05-01T00:00:00-04:00",
          "2023-05-02T00:00:00-04:00",
          "2023-05-03T00:00:00-04:00",
          "2023-05-04T00:00:00-04:00",
          "2023-05-05T00:00:00-04:00",
          "2023-05-08T00:00:00-04:00",
          "2023-05-09T00:00:00-04:00",
          "2023-05-10T00:00:00-04:00",
          "2023-05-11T00:00:00-04:00",
          "2023-05-12T00:00:00-04:00",
          "2023-05-15T00:00:00-04:00",
          "2023-05-16T00:00:00-04:00",
          "2023-05-17T00:00:00-04:00",
          "2023-05-18T00:00:00-04:00",
          "2023-05-19T00:00:00-04:00",
          "2023-05-22T00:00:00-04:00",
          "2023-05-23T00:00:00-04:00",
          "2023-05-24T00:00:00-04:00",
          "2023-05-25T00:00:00-04:00",
          "2023-05-26T00:00:00-04:00",
          "2023-05-30T00:00:00-04:00",
          "2023-05-31T00:00:00-04:00",
          "2023-06-01T00:00:00-04:00",
          "2023-06-02T00:00:00-04:00",
          "2023-06-05T00:00:00-04:00",
          "2023-06-06T00:00:00-04:00",
          "2023-06-07T00:00:00-04:00",
          "2023-06-08T00:00:00-04:00",
          "2023-06-09T00:00:00-04:00",
          "2023-06-12T00:00:00-04:00",
          "2023-06-13T00:00:00-04:00",
          "2023-06-14T00:00:00-04:00",
          "2023-06-15T00:00:00-04:00",
          "2023-06-16T00:00:00-04:00",
          "2023-06-20T00:00:00-04:00",
          "2023-06-21T00:00:00-04:00",
          "2023-06-22T00:00:00-04:00",
          "2023-06-23T00:00:00-04:00",
          "2023-06-26T00:00:00-04:00",
          "2023-06-27T00:00:00-04:00",
          "2023-06-28T00:00:00-04:00",
          "2023-06-29T00:00:00-04:00",
          "2023-06-30T00:00:00-04:00",
          "2023-07-03T00:00:00-04:00",
          "2023-07-05T00:00:00-04:00",
          "2023-07-06T00:00:00-04:00",
          "2023-07-07T00:00:00-04:00",
          "2023-07-10T00:00:00-04:00",
          "2023-07-11T00:00:00-04:00",
          "2023-07-12T00:00:00-04:00",
          "2023-07-13T00:00:00-04:00",
          "2023-07-14T00:00:00-04:00",
          "2023-07-17T00:00:00-04:00",
          "2023-07-18T00:00:00-04:00",
          "2023-07-19T00:00:00-04:00",
          "2023-07-20T00:00:00-04:00",
          "2023-07-21T00:00:00-04:00",
          "2023-07-24T00:00:00-04:00",
          "2023-07-25T00:00:00-04:00",
          "2023-07-26T00:00:00-04:00",
          "2023-07-27T00:00:00-04:00",
          "2023-07-28T00:00:00-04:00",
          "2023-07-31T00:00:00-04:00",
          "2023-08-01T00:00:00-04:00",
          "2023-08-02T00:00:00-04:00",
          "2023-08-03T00:00:00-04:00",
          "2023-08-04T00:00:00-04:00",
          "2023-08-07T00:00:00-04:00",
          "2023-08-08T00:00:00-04:00",
          "2023-08-09T00:00:00-04:00",
          "2023-08-10T00:00:00-04:00",
          "2023-08-11T00:00:00-04:00",
          "2023-08-14T00:00:00-04:00",
          "2023-08-15T00:00:00-04:00",
          "2023-08-16T00:00:00-04:00",
          "2023-08-17T00:00:00-04:00",
          "2023-08-18T00:00:00-04:00",
          "2023-08-21T00:00:00-04:00",
          "2023-08-22T00:00:00-04:00",
          "2023-08-23T00:00:00-04:00",
          "2023-08-24T00:00:00-04:00",
          "2023-08-25T00:00:00-04:00",
          "2023-08-28T00:00:00-04:00",
          "2023-08-29T00:00:00-04:00",
          "2023-08-30T00:00:00-04:00",
          "2023-08-31T00:00:00-04:00",
          "2023-09-01T00:00:00-04:00",
          "2023-09-05T00:00:00-04:00",
          "2023-09-06T00:00:00-04:00",
          "2023-09-07T00:00:00-04:00",
          "2023-09-08T00:00:00-04:00",
          "2023-09-11T00:00:00-04:00",
          "2023-09-12T00:00:00-04:00",
          "2023-09-13T00:00:00-04:00",
          "2023-09-14T00:00:00-04:00",
          "2023-09-15T00:00:00-04:00",
          "2023-09-18T00:00:00-04:00",
          "2023-09-19T00:00:00-04:00",
          "2023-09-20T00:00:00-04:00",
          "2023-09-21T00:00:00-04:00",
          "2023-09-22T00:00:00-04:00",
          "2023-09-25T00:00:00-04:00",
          "2023-09-26T00:00:00-04:00",
          "2023-09-27T00:00:00-04:00",
          "2023-09-28T00:00:00-04:00",
          "2023-09-29T00:00:00-04:00",
          "2023-10-02T00:00:00-04:00",
          "2023-10-03T00:00:00-04:00",
          "2023-10-04T00:00:00-04:00",
          "2023-10-05T00:00:00-04:00",
          "2023-10-06T00:00:00-04:00",
          "2023-10-09T00:00:00-04:00",
          "2023-10-10T00:00:00-04:00",
          "2023-10-11T00:00:00-04:00",
          "2023-10-12T00:00:00-04:00",
          "2023-10-13T00:00:00-04:00",
          "2023-10-16T00:00:00-04:00",
          "2023-10-17T00:00:00-04:00",
          "2023-10-18T00:00:00-04:00",
          "2023-10-19T00:00:00-04:00",
          "2023-10-20T00:00:00-04:00",
          "2023-10-23T00:00:00-04:00",
          "2023-10-24T00:00:00-04:00",
          "2023-10-25T00:00:00-04:00",
          "2023-10-26T00:00:00-04:00",
          "2023-10-27T00:00:00-04:00",
          "2023-10-30T00:00:00-04:00",
          "2023-10-31T00:00:00-04:00",
          "2023-11-01T00:00:00-04:00",
          "2023-11-02T00:00:00-04:00",
          "2023-11-03T00:00:00-04:00",
          "2023-11-06T00:00:00-05:00",
          "2023-11-07T00:00:00-05:00",
          "2023-11-08T00:00:00-05:00",
          "2023-11-09T00:00:00-05:00",
          "2023-11-10T00:00:00-05:00",
          "2023-11-13T00:00:00-05:00",
          "2023-11-14T00:00:00-05:00",
          "2023-11-15T00:00:00-05:00",
          "2023-11-16T00:00:00-05:00",
          "2023-11-17T00:00:00-05:00",
          "2023-11-20T00:00:00-05:00",
          "2023-11-21T00:00:00-05:00",
          "2023-11-22T00:00:00-05:00",
          "2023-11-24T00:00:00-05:00",
          "2023-11-27T00:00:00-05:00",
          "2023-11-28T00:00:00-05:00",
          "2023-11-29T00:00:00-05:00",
          "2023-11-30T00:00:00-05:00",
          "2023-12-01T00:00:00-05:00",
          "2023-12-04T00:00:00-05:00",
          "2023-12-05T00:00:00-05:00",
          "2023-12-06T00:00:00-05:00",
          "2023-12-07T00:00:00-05:00",
          "2023-12-08T00:00:00-05:00",
          "2023-12-11T00:00:00-05:00",
          "2023-12-12T00:00:00-05:00",
          "2023-12-13T00:00:00-05:00",
          "2023-12-14T00:00:00-05:00",
          "2023-12-15T00:00:00-05:00",
          "2023-12-18T00:00:00-05:00",
          "2023-12-19T00:00:00-05:00",
          "2023-12-20T00:00:00-05:00",
          "2023-12-21T00:00:00-05:00",
          "2023-12-22T00:00:00-05:00",
          "2023-12-26T00:00:00-05:00",
          "2023-12-27T00:00:00-05:00",
          "2023-12-28T00:00:00-05:00",
          "2023-12-29T00:00:00-05:00",
          "2024-01-02T00:00:00-05:00",
          "2024-01-03T00:00:00-05:00",
          "2024-01-04T00:00:00-05:00",
          "2024-01-05T00:00:00-05:00",
          "2024-01-08T00:00:00-05:00",
          "2024-01-09T00:00:00-05:00",
          "2024-01-10T00:00:00-05:00",
          "2024-01-11T00:00:00-05:00",
          "2024-01-12T00:00:00-05:00",
          "2024-01-16T00:00:00-05:00",
          "2024-01-17T00:00:00-05:00",
          "2024-01-18T00:00:00-05:00",
          "2024-01-19T00:00:00-05:00",
          "2024-01-22T00:00:00-05:00",
          "2024-01-23T00:00:00-05:00",
          "2024-01-24T00:00:00-05:00",
          "2024-01-25T00:00:00-05:00",
          "2024-01-26T00:00:00-05:00",
          "2024-01-29T00:00:00-05:00",
          "2024-01-30T00:00:00-05:00",
          "2024-01-31T00:00:00-05:00",
          "2024-02-01T00:00:00-05:00",
          "2024-02-02T00:00:00-05:00",
          "2024-02-05T00:00:00-05:00",
          "2024-02-06T00:00:00-05:00",
          "2024-02-07T00:00:00-05:00",
          "2024-02-08T00:00:00-05:00",
          "2024-02-09T00:00:00-05:00",
          "2024-02-12T00:00:00-05:00",
          "2024-02-13T00:00:00-05:00",
          "2024-02-14T00:00:00-05:00",
          "2024-02-15T00:00:00-05:00",
          "2024-02-16T00:00:00-05:00",
          "2024-02-20T00:00:00-05:00",
          "2024-02-21T00:00:00-05:00",
          "2024-02-22T00:00:00-05:00",
          "2024-02-23T00:00:00-05:00",
          "2024-02-26T00:00:00-05:00",
          "2024-02-27T00:00:00-05:00",
          "2024-02-28T00:00:00-05:00",
          "2024-02-29T00:00:00-05:00",
          "2024-03-01T00:00:00-05:00",
          "2024-03-04T00:00:00-05:00",
          "2024-03-05T00:00:00-05:00",
          "2024-03-06T00:00:00-05:00",
          "2024-03-07T00:00:00-05:00",
          "2024-03-08T00:00:00-05:00",
          "2024-03-11T00:00:00-04:00",
          "2024-03-12T00:00:00-04:00",
          "2024-03-13T00:00:00-04:00",
          "2024-03-14T00:00:00-04:00",
          "2024-03-15T00:00:00-04:00",
          "2024-03-18T00:00:00-04:00",
          "2024-03-19T00:00:00-04:00",
          "2024-03-20T00:00:00-04:00",
          "2024-03-21T00:00:00-04:00",
          "2024-03-22T00:00:00-04:00",
          "2024-03-25T00:00:00-04:00",
          "2024-03-26T00:00:00-04:00",
          "2024-03-27T00:00:00-04:00",
          "2024-03-28T00:00:00-04:00",
          "2024-04-01T00:00:00-04:00",
          "2024-04-02T00:00:00-04:00",
          "2024-04-03T00:00:00-04:00",
          "2024-04-04T00:00:00-04:00",
          "2024-04-05T00:00:00-04:00",
          "2024-04-08T00:00:00-04:00",
          "2024-04-09T00:00:00-04:00",
          "2024-04-10T00:00:00-04:00",
          "2024-04-11T00:00:00-04:00",
          "2024-04-12T00:00:00-04:00",
          "2024-04-15T00:00:00-04:00",
          "2024-04-16T00:00:00-04:00",
          "2024-04-17T00:00:00-04:00",
          "2024-04-18T00:00:00-04:00",
          "2024-04-19T00:00:00-04:00",
          "2024-04-22T00:00:00-04:00",
          "2024-04-23T00:00:00-04:00",
          "2024-04-24T00:00:00-04:00",
          "2024-04-25T00:00:00-04:00",
          "2024-04-26T00:00:00-04:00",
          "2024-04-29T00:00:00-04:00",
          "2024-04-30T00:00:00-04:00",
          "2024-05-01T00:00:00-04:00",
          "2024-05-02T00:00:00-04:00",
          "2024-05-03T00:00:00-04:00",
          "2024-05-06T00:00:00-04:00",
          "2024-05-07T00:00:00-04:00",
          "2024-05-08T00:00:00-04:00",
          "2024-05-09T00:00:00-04:00",
          "2024-05-10T00:00:00-04:00",
          "2024-05-13T00:00:00-04:00",
          "2024-05-14T00:00:00-04:00",
          "2024-05-15T00:00:00-04:00",
          "2024-05-16T00:00:00-04:00",
          "2024-05-17T00:00:00-04:00",
          "2024-05-20T00:00:00-04:00",
          "2024-05-21T00:00:00-04:00",
          "2024-05-22T00:00:00-04:00",
          "2024-05-23T00:00:00-04:00",
          "2024-05-24T00:00:00-04:00",
          "2024-05-28T00:00:00-04:00",
          "2024-05-29T00:00:00-04:00",
          "2024-05-30T00:00:00-04:00",
          "2024-05-31T00:00:00-04:00",
          "2024-06-03T00:00:00-04:00",
          "2024-06-04T00:00:00-04:00",
          "2024-06-05T00:00:00-04:00",
          "2024-06-06T00:00:00-04:00",
          "2024-06-07T00:00:00-04:00",
          "2024-06-10T00:00:00-04:00",
          "2024-06-11T00:00:00-04:00",
          "2024-06-12T00:00:00-04:00",
          "2024-06-13T00:00:00-04:00",
          "2024-06-14T00:00:00-04:00",
          "2024-06-17T00:00:00-04:00",
          "2024-06-18T00:00:00-04:00",
          "2024-06-20T00:00:00-04:00",
          "2024-06-21T00:00:00-04:00",
          "2024-06-24T00:00:00-04:00",
          "2024-06-25T00:00:00-04:00",
          "2024-06-26T00:00:00-04:00",
          "2024-06-27T00:00:00-04:00",
          "2024-06-28T00:00:00-04:00",
          "2024-07-01T00:00:00-04:00",
          "2024-07-02T00:00:00-04:00",
          "2024-07-03T00:00:00-04:00",
          "2024-07-05T00:00:00-04:00",
          "2024-07-08T00:00:00-04:00",
          "2024-07-09T00:00:00-04:00",
          "2024-07-10T00:00:00-04:00",
          "2024-07-11T00:00:00-04:00",
          "2024-07-12T00:00:00-04:00",
          "2024-07-15T00:00:00-04:00",
          "2024-07-16T00:00:00-04:00",
          "2024-07-17T00:00:00-04:00",
          "2024-07-18T00:00:00-04:00",
          "2024-07-19T00:00:00-04:00",
          "2024-07-22T00:00:00-04:00",
          "2024-07-23T00:00:00-04:00",
          "2024-07-24T00:00:00-04:00",
          "2024-07-25T00:00:00-04:00",
          "2024-07-26T00:00:00-04:00",
          "2024-07-29T00:00:00-04:00",
          "2024-07-30T00:00:00-04:00",
          "2024-07-31T00:00:00-04:00",
          "2024-08-01T00:00:00-04:00",
          "2024-08-02T00:00:00-04:00",
          "2024-08-05T00:00:00-04:00",
          "2024-08-06T00:00:00-04:00",
          "2024-08-07T00:00:00-04:00",
          "2024-08-08T00:00:00-04:00",
          "2024-08-09T00:00:00-04:00",
          "2024-08-12T00:00:00-04:00",
          "2024-08-13T00:00:00-04:00",
          "2024-08-14T00:00:00-04:00",
          "2024-08-15T00:00:00-04:00",
          "2024-08-16T00:00:00-04:00",
          "2024-08-19T00:00:00-04:00",
          "2024-08-20T00:00:00-04:00",
          "2024-08-21T00:00:00-04:00",
          "2024-08-22T00:00:00-04:00",
          "2024-08-23T00:00:00-04:00",
          "2024-08-26T00:00:00-04:00",
          "2024-08-27T00:00:00-04:00",
          "2024-08-28T00:00:00-04:00",
          "2024-08-29T00:00:00-04:00",
          "2024-08-30T00:00:00-04:00",
          "2024-09-03T00:00:00-04:00",
          "2024-09-04T00:00:00-04:00",
          "2024-09-05T00:00:00-04:00",
          "2024-09-06T00:00:00-04:00",
          "2024-09-09T00:00:00-04:00",
          "2024-09-10T00:00:00-04:00",
          "2024-09-11T00:00:00-04:00",
          "2024-09-12T00:00:00-04:00",
          "2024-09-13T00:00:00-04:00",
          "2024-09-16T00:00:00-04:00",
          "2024-09-17T00:00:00-04:00",
          "2024-09-18T00:00:00-04:00",
          "2024-09-19T00:00:00-04:00",
          "2024-09-20T00:00:00-04:00",
          "2024-09-23T00:00:00-04:00",
          "2024-09-24T00:00:00-04:00",
          "2024-09-25T00:00:00-04:00",
          "2024-09-26T00:00:00-04:00",
          "2024-09-27T00:00:00-04:00",
          "2024-09-30T00:00:00-04:00",
          "2024-10-01T00:00:00-04:00",
          "2024-10-02T00:00:00-04:00",
          "2024-10-03T00:00:00-04:00",
          "2024-10-04T00:00:00-04:00",
          "2024-10-07T00:00:00-04:00",
          "2024-10-08T00:00:00-04:00",
          "2024-10-09T00:00:00-04:00",
          "2024-10-10T00:00:00-04:00",
          "2024-10-11T00:00:00-04:00",
          "2024-10-14T00:00:00-04:00",
          "2024-10-15T00:00:00-04:00",
          "2024-10-16T00:00:00-04:00",
          "2024-10-17T00:00:00-04:00",
          "2024-10-18T00:00:00-04:00",
          "2024-10-21T00:00:00-04:00",
          "2024-10-22T00:00:00-04:00",
          "2024-10-23T00:00:00-04:00",
          "2024-10-24T00:00:00-04:00",
          "2024-10-25T00:00:00-04:00",
          "2024-10-28T00:00:00-04:00",
          "2024-10-29T00:00:00-04:00",
          "2024-10-30T00:00:00-04:00",
          "2024-10-31T00:00:00-04:00",
          "2024-11-01T00:00:00-04:00",
          "2024-11-04T00:00:00-05:00",
          "2024-11-05T00:00:00-05:00",
          "2024-11-06T00:00:00-05:00",
          "2024-11-07T00:00:00-05:00",
          "2024-11-08T00:00:00-05:00",
          "2024-11-11T00:00:00-05:00",
          "2024-11-12T00:00:00-05:00",
          "2024-11-13T00:00:00-05:00",
          "2024-11-14T00:00:00-05:00",
          "2024-11-15T00:00:00-05:00",
          "2024-11-18T00:00:00-05:00",
          "2024-11-19T00:00:00-05:00",
          "2024-11-20T00:00:00-05:00",
          "2024-11-21T00:00:00-05:00",
          "2024-11-22T00:00:00-05:00",
          "2024-11-25T00:00:00-05:00",
          "2024-11-26T00:00:00-05:00",
          "2024-11-27T00:00:00-05:00",
          "2024-11-29T00:00:00-05:00",
          "2024-12-02T00:00:00-05:00",
          "2024-12-03T00:00:00-05:00",
          "2024-12-04T00:00:00-05:00",
          "2024-12-05T00:00:00-05:00",
          "2024-12-06T00:00:00-05:00",
          "2024-12-09T00:00:00-05:00",
          "2024-12-10T00:00:00-05:00",
          "2024-12-11T00:00:00-05:00",
          "2024-12-12T00:00:00-05:00",
          "2024-12-13T00:00:00-05:00",
          "2024-12-16T00:00:00-05:00",
          "2024-12-17T00:00:00-05:00",
          "2024-12-18T00:00:00-05:00",
          "2024-12-19T00:00:00-05:00",
          "2024-12-20T00:00:00-05:00",
          "2024-12-23T00:00:00-05:00",
          "2024-12-24T00:00:00-05:00",
          "2024-12-26T00:00:00-05:00",
          "2024-12-27T00:00:00-05:00",
          "2024-12-30T00:00:00-05:00",
          "2024-12-31T00:00:00-05:00",
          "2025-01-02T00:00:00-05:00",
          "2025-01-03T00:00:00-05:00",
          "2025-01-06T00:00:00-05:00",
          "2025-01-07T00:00:00-05:00",
          "2025-01-08T00:00:00-05:00",
          "2025-01-10T00:00:00-05:00",
          "2025-01-13T00:00:00-05:00",
          "2025-01-14T00:00:00-05:00",
          "2025-01-15T00:00:00-05:00",
          "2025-01-16T00:00:00-05:00",
          "2025-01-17T00:00:00-05:00",
          "2025-01-21T00:00:00-05:00",
          "2025-01-22T00:00:00-05:00",
          "2025-01-23T00:00:00-05:00",
          "2025-01-24T00:00:00-05:00",
          "2025-01-27T00:00:00-05:00",
          "2025-01-28T00:00:00-05:00",
          "2025-01-29T00:00:00-05:00",
          "2025-01-30T00:00:00-05:00",
          "2025-01-31T00:00:00-05:00",
          "2025-02-03T00:00:00-05:00",
          "2025-02-04T00:00:00-05:00",
          "2025-02-05T00:00:00-05:00",
          "2025-02-06T00:00:00-05:00",
          "2025-02-07T00:00:00-05:00",
          "2025-02-10T00:00:00-05:00",
          "2025-02-11T00:00:00-05:00",
          "2025-02-12T00:00:00-05:00",
          "2025-02-13T00:00:00-05:00",
          "2025-02-14T00:00:00-05:00",
          "2025-02-18T00:00:00-05:00",
          "2025-02-19T00:00:00-05:00",
          "2025-02-20T00:00:00-05:00",
          "2025-02-21T00:00:00-05:00",
          "2025-02-24T00:00:00-05:00",
          "2025-02-25T00:00:00-05:00",
          "2025-02-26T00:00:00-05:00",
          "2025-02-27T00:00:00-05:00",
          "2025-02-28T00:00:00-05:00",
          "2025-03-03T00:00:00-05:00",
          "2025-03-04T00:00:00-05:00",
          "2025-03-05T00:00:00-05:00",
          "2025-03-06T00:00:00-05:00",
          "2025-03-07T00:00:00-05:00",
          "2025-03-10T00:00:00-04:00",
          "2025-03-11T00:00:00-04:00",
          "2025-03-12T00:00:00-04:00",
          "2025-03-13T00:00:00-04:00",
          "2025-03-14T00:00:00-04:00",
          "2025-03-17T00:00:00-04:00",
          "2025-03-18T00:00:00-04:00",
          "2025-03-19T00:00:00-04:00",
          "2025-03-20T00:00:00-04:00",
          "2025-03-21T00:00:00-04:00",
          "2025-03-24T00:00:00-04:00",
          "2025-03-25T00:00:00-04:00",
          "2025-03-26T00:00:00-04:00",
          "2025-03-27T00:00:00-04:00",
          "2025-03-28T00:00:00-04:00"
         ],
         "xaxis": "x",
         "yaxis": "y"
        },
        {
         "marker": {
          "color": "darkblue"
         },
         "name": "Volume",
         "type": "bar",
         "x": [
          "2023-03-29T00:00:00-04:00",
          "2023-03-30T00:00:00-04:00",
          "2023-03-31T00:00:00-04:00",
          "2023-04-03T00:00:00-04:00",
          "2023-04-04T00:00:00-04:00",
          "2023-04-05T00:00:00-04:00",
          "2023-04-06T00:00:00-04:00",
          "2023-04-10T00:00:00-04:00",
          "2023-04-11T00:00:00-04:00",
          "2023-04-12T00:00:00-04:00",
          "2023-04-13T00:00:00-04:00",
          "2023-04-14T00:00:00-04:00",
          "2023-04-17T00:00:00-04:00",
          "2023-04-18T00:00:00-04:00",
          "2023-04-19T00:00:00-04:00",
          "2023-04-20T00:00:00-04:00",
          "2023-04-21T00:00:00-04:00",
          "2023-04-24T00:00:00-04:00",
          "2023-04-25T00:00:00-04:00",
          "2023-04-26T00:00:00-04:00",
          "2023-04-27T00:00:00-04:00",
          "2023-04-28T00:00:00-04:00",
          "2023-05-01T00:00:00-04:00",
          "2023-05-02T00:00:00-04:00",
          "2023-05-03T00:00:00-04:00",
          "2023-05-04T00:00:00-04:00",
          "2023-05-05T00:00:00-04:00",
          "2023-05-08T00:00:00-04:00",
          "2023-05-09T00:00:00-04:00",
          "2023-05-10T00:00:00-04:00",
          "2023-05-11T00:00:00-04:00",
          "2023-05-12T00:00:00-04:00",
          "2023-05-15T00:00:00-04:00",
          "2023-05-16T00:00:00-04:00",
          "2023-05-17T00:00:00-04:00",
          "2023-05-18T00:00:00-04:00",
          "2023-05-19T00:00:00-04:00",
          "2023-05-22T00:00:00-04:00",
          "2023-05-23T00:00:00-04:00",
          "2023-05-24T00:00:00-04:00",
          "2023-05-25T00:00:00-04:00",
          "2023-05-26T00:00:00-04:00",
          "2023-05-30T00:00:00-04:00",
          "2023-05-31T00:00:00-04:00",
          "2023-06-01T00:00:00-04:00",
          "2023-06-02T00:00:00-04:00",
          "2023-06-05T00:00:00-04:00",
          "2023-06-06T00:00:00-04:00",
          "2023-06-07T00:00:00-04:00",
          "2023-06-08T00:00:00-04:00",
          "2023-06-09T00:00:00-04:00",
          "2023-06-12T00:00:00-04:00",
          "2023-06-13T00:00:00-04:00",
          "2023-06-14T00:00:00-04:00",
          "2023-06-15T00:00:00-04:00",
          "2023-06-16T00:00:00-04:00",
          "2023-06-20T00:00:00-04:00",
          "2023-06-21T00:00:00-04:00",
          "2023-06-22T00:00:00-04:00",
          "2023-06-23T00:00:00-04:00",
          "2023-06-26T00:00:00-04:00",
          "2023-06-27T00:00:00-04:00",
          "2023-06-28T00:00:00-04:00",
          "2023-06-29T00:00:00-04:00",
          "2023-06-30T00:00:00-04:00",
          "2023-07-03T00:00:00-04:00",
          "2023-07-05T00:00:00-04:00",
          "2023-07-06T00:00:00-04:00",
          "2023-07-07T00:00:00-04:00",
          "2023-07-10T00:00:00-04:00",
          "2023-07-11T00:00:00-04:00",
          "2023-07-12T00:00:00-04:00",
          "2023-07-13T00:00:00-04:00",
          "2023-07-14T00:00:00-04:00",
          "2023-07-17T00:00:00-04:00",
          "2023-07-18T00:00:00-04:00",
          "2023-07-19T00:00:00-04:00",
          "2023-07-20T00:00:00-04:00",
          "2023-07-21T00:00:00-04:00",
          "2023-07-24T00:00:00-04:00",
          "2023-07-25T00:00:00-04:00",
          "2023-07-26T00:00:00-04:00",
          "2023-07-27T00:00:00-04:00",
          "2023-07-28T00:00:00-04:00",
          "2023-07-31T00:00:00-04:00",
          "2023-08-01T00:00:00-04:00",
          "2023-08-02T00:00:00-04:00",
          "2023-08-03T00:00:00-04:00",
          "2023-08-04T00:00:00-04:00",
          "2023-08-07T00:00:00-04:00",
          "2023-08-08T00:00:00-04:00",
          "2023-08-09T00:00:00-04:00",
          "2023-08-10T00:00:00-04:00",
          "2023-08-11T00:00:00-04:00",
          "2023-08-14T00:00:00-04:00",
          "2023-08-15T00:00:00-04:00",
          "2023-08-16T00:00:00-04:00",
          "2023-08-17T00:00:00-04:00",
          "2023-08-18T00:00:00-04:00",
          "2023-08-21T00:00:00-04:00",
          "2023-08-22T00:00:00-04:00",
          "2023-08-23T00:00:00-04:00",
          "2023-08-24T00:00:00-04:00",
          "2023-08-25T00:00:00-04:00",
          "2023-08-28T00:00:00-04:00",
          "2023-08-29T00:00:00-04:00",
          "2023-08-30T00:00:00-04:00",
          "2023-08-31T00:00:00-04:00",
          "2023-09-01T00:00:00-04:00",
          "2023-09-05T00:00:00-04:00",
          "2023-09-06T00:00:00-04:00",
          "2023-09-07T00:00:00-04:00",
          "2023-09-08T00:00:00-04:00",
          "2023-09-11T00:00:00-04:00",
          "2023-09-12T00:00:00-04:00",
          "2023-09-13T00:00:00-04:00",
          "2023-09-14T00:00:00-04:00",
          "2023-09-15T00:00:00-04:00",
          "2023-09-18T00:00:00-04:00",
          "2023-09-19T00:00:00-04:00",
          "2023-09-20T00:00:00-04:00",
          "2023-09-21T00:00:00-04:00",
          "2023-09-22T00:00:00-04:00",
          "2023-09-25T00:00:00-04:00",
          "2023-09-26T00:00:00-04:00",
          "2023-09-27T00:00:00-04:00",
          "2023-09-28T00:00:00-04:00",
          "2023-09-29T00:00:00-04:00",
          "2023-10-02T00:00:00-04:00",
          "2023-10-03T00:00:00-04:00",
          "2023-10-04T00:00:00-04:00",
          "2023-10-05T00:00:00-04:00",
          "2023-10-06T00:00:00-04:00",
          "2023-10-09T00:00:00-04:00",
          "2023-10-10T00:00:00-04:00",
          "2023-10-11T00:00:00-04:00",
          "2023-10-12T00:00:00-04:00",
          "2023-10-13T00:00:00-04:00",
          "2023-10-16T00:00:00-04:00",
          "2023-10-17T00:00:00-04:00",
          "2023-10-18T00:00:00-04:00",
          "2023-10-19T00:00:00-04:00",
          "2023-10-20T00:00:00-04:00",
          "2023-10-23T00:00:00-04:00",
          "2023-10-24T00:00:00-04:00",
          "2023-10-25T00:00:00-04:00",
          "2023-10-26T00:00:00-04:00",
          "2023-10-27T00:00:00-04:00",
          "2023-10-30T00:00:00-04:00",
          "2023-10-31T00:00:00-04:00",
          "2023-11-01T00:00:00-04:00",
          "2023-11-02T00:00:00-04:00",
          "2023-11-03T00:00:00-04:00",
          "2023-11-06T00:00:00-05:00",
          "2023-11-07T00:00:00-05:00",
          "2023-11-08T00:00:00-05:00",
          "2023-11-09T00:00:00-05:00",
          "2023-11-10T00:00:00-05:00",
          "2023-11-13T00:00:00-05:00",
          "2023-11-14T00:00:00-05:00",
          "2023-11-15T00:00:00-05:00",
          "2023-11-16T00:00:00-05:00",
          "2023-11-17T00:00:00-05:00",
          "2023-11-20T00:00:00-05:00",
          "2023-11-21T00:00:00-05:00",
          "2023-11-22T00:00:00-05:00",
          "2023-11-24T00:00:00-05:00",
          "2023-11-27T00:00:00-05:00",
          "2023-11-28T00:00:00-05:00",
          "2023-11-29T00:00:00-05:00",
          "2023-11-30T00:00:00-05:00",
          "2023-12-01T00:00:00-05:00",
          "2023-12-04T00:00:00-05:00",
          "2023-12-05T00:00:00-05:00",
          "2023-12-06T00:00:00-05:00",
          "2023-12-07T00:00:00-05:00",
          "2023-12-08T00:00:00-05:00",
          "2023-12-11T00:00:00-05:00",
          "2023-12-12T00:00:00-05:00",
          "2023-12-13T00:00:00-05:00",
          "2023-12-14T00:00:00-05:00",
          "2023-12-15T00:00:00-05:00",
          "2023-12-18T00:00:00-05:00",
          "2023-12-19T00:00:00-05:00",
          "2023-12-20T00:00:00-05:00",
          "2023-12-21T00:00:00-05:00",
          "2023-12-22T00:00:00-05:00",
          "2023-12-26T00:00:00-05:00",
          "2023-12-27T00:00:00-05:00",
          "2023-12-28T00:00:00-05:00",
          "2023-12-29T00:00:00-05:00",
          "2024-01-02T00:00:00-05:00",
          "2024-01-03T00:00:00-05:00",
          "2024-01-04T00:00:00-05:00",
          "2024-01-05T00:00:00-05:00",
          "2024-01-08T00:00:00-05:00",
          "2024-01-09T00:00:00-05:00",
          "2024-01-10T00:00:00-05:00",
          "2024-01-11T00:00:00-05:00",
          "2024-01-12T00:00:00-05:00",
          "2024-01-16T00:00:00-05:00",
          "2024-01-17T00:00:00-05:00",
          "2024-01-18T00:00:00-05:00",
          "2024-01-19T00:00:00-05:00",
          "2024-01-22T00:00:00-05:00",
          "2024-01-23T00:00:00-05:00",
          "2024-01-24T00:00:00-05:00",
          "2024-01-25T00:00:00-05:00",
          "2024-01-26T00:00:00-05:00",
          "2024-01-29T00:00:00-05:00",
          "2024-01-30T00:00:00-05:00",
          "2024-01-31T00:00:00-05:00",
          "2024-02-01T00:00:00-05:00",
          "2024-02-02T00:00:00-05:00",
          "2024-02-05T00:00:00-05:00",
          "2024-02-06T00:00:00-05:00",
          "2024-02-07T00:00:00-05:00",
          "2024-02-08T00:00:00-05:00",
          "2024-02-09T00:00:00-05:00",
          "2024-02-12T00:00:00-05:00",
          "2024-02-13T00:00:00-05:00",
          "2024-02-14T00:00:00-05:00",
          "2024-02-15T00:00:00-05:00",
          "2024-02-16T00:00:00-05:00",
          "2024-02-20T00:00:00-05:00",
          "2024-02-21T00:00:00-05:00",
          "2024-02-22T00:00:00-05:00",
          "2024-02-23T00:00:00-05:00",
          "2024-02-26T00:00:00-05:00",
          "2024-02-27T00:00:00-05:00",
          "2024-02-28T00:00:00-05:00",
          "2024-02-29T00:00:00-05:00",
          "2024-03-01T00:00:00-05:00",
          "2024-03-04T00:00:00-05:00",
          "2024-03-05T00:00:00-05:00",
          "2024-03-06T00:00:00-05:00",
          "2024-03-07T00:00:00-05:00",
          "2024-03-08T00:00:00-05:00",
          "2024-03-11T00:00:00-04:00",
          "2024-03-12T00:00:00-04:00",
          "2024-03-13T00:00:00-04:00",
          "2024-03-14T00:00:00-04:00",
          "2024-03-15T00:00:00-04:00",
          "2024-03-18T00:00:00-04:00",
          "2024-03-19T00:00:00-04:00",
          "2024-03-20T00:00:00-04:00",
          "2024-03-21T00:00:00-04:00",
          "2024-03-22T00:00:00-04:00",
          "2024-03-25T00:00:00-04:00",
          "2024-03-26T00:00:00-04:00",
          "2024-03-27T00:00:00-04:00",
          "2024-03-28T00:00:00-04:00",
          "2024-04-01T00:00:00-04:00",
          "2024-04-02T00:00:00-04:00",
          "2024-04-03T00:00:00-04:00",
          "2024-04-04T00:00:00-04:00",
          "2024-04-05T00:00:00-04:00",
          "2024-04-08T00:00:00-04:00",
          "2024-04-09T00:00:00-04:00",
          "2024-04-10T00:00:00-04:00",
          "2024-04-11T00:00:00-04:00",
          "2024-04-12T00:00:00-04:00",
          "2024-04-15T00:00:00-04:00",
          "2024-04-16T00:00:00-04:00",
          "2024-04-17T00:00:00-04:00",
          "2024-04-18T00:00:00-04:00",
          "2024-04-19T00:00:00-04:00",
          "2024-04-22T00:00:00-04:00",
          "2024-04-23T00:00:00-04:00",
          "2024-04-24T00:00:00-04:00",
          "2024-04-25T00:00:00-04:00",
          "2024-04-26T00:00:00-04:00",
          "2024-04-29T00:00:00-04:00",
          "2024-04-30T00:00:00-04:00",
          "2024-05-01T00:00:00-04:00",
          "2024-05-02T00:00:00-04:00",
          "2024-05-03T00:00:00-04:00",
          "2024-05-06T00:00:00-04:00",
          "2024-05-07T00:00:00-04:00",
          "2024-05-08T00:00:00-04:00",
          "2024-05-09T00:00:00-04:00",
          "2024-05-10T00:00:00-04:00",
          "2024-05-13T00:00:00-04:00",
          "2024-05-14T00:00:00-04:00",
          "2024-05-15T00:00:00-04:00",
          "2024-05-16T00:00:00-04:00",
          "2024-05-17T00:00:00-04:00",
          "2024-05-20T00:00:00-04:00",
          "2024-05-21T00:00:00-04:00",
          "2024-05-22T00:00:00-04:00",
          "2024-05-23T00:00:00-04:00",
          "2024-05-24T00:00:00-04:00",
          "2024-05-28T00:00:00-04:00",
          "2024-05-29T00:00:00-04:00",
          "2024-05-30T00:00:00-04:00",
          "2024-05-31T00:00:00-04:00",
          "2024-06-03T00:00:00-04:00",
          "2024-06-04T00:00:00-04:00",
          "2024-06-05T00:00:00-04:00",
          "2024-06-06T00:00:00-04:00",
          "2024-06-07T00:00:00-04:00",
          "2024-06-10T00:00:00-04:00",
          "2024-06-11T00:00:00-04:00",
          "2024-06-12T00:00:00-04:00",
          "2024-06-13T00:00:00-04:00",
          "2024-06-14T00:00:00-04:00",
          "2024-06-17T00:00:00-04:00",
          "2024-06-18T00:00:00-04:00",
          "2024-06-20T00:00:00-04:00",
          "2024-06-21T00:00:00-04:00",
          "2024-06-24T00:00:00-04:00",
          "2024-06-25T00:00:00-04:00",
          "2024-06-26T00:00:00-04:00",
          "2024-06-27T00:00:00-04:00",
          "2024-06-28T00:00:00-04:00",
          "2024-07-01T00:00:00-04:00",
          "2024-07-02T00:00:00-04:00",
          "2024-07-03T00:00:00-04:00",
          "2024-07-05T00:00:00-04:00",
          "2024-07-08T00:00:00-04:00",
          "2024-07-09T00:00:00-04:00",
          "2024-07-10T00:00:00-04:00",
          "2024-07-11T00:00:00-04:00",
          "2024-07-12T00:00:00-04:00",
          "2024-07-15T00:00:00-04:00",
          "2024-07-16T00:00:00-04:00",
          "2024-07-17T00:00:00-04:00",
          "2024-07-18T00:00:00-04:00",
          "2024-07-19T00:00:00-04:00",
          "2024-07-22T00:00:00-04:00",
          "2024-07-23T00:00:00-04:00",
          "2024-07-24T00:00:00-04:00",
          "2024-07-25T00:00:00-04:00",
          "2024-07-26T00:00:00-04:00",
          "2024-07-29T00:00:00-04:00",
          "2024-07-30T00:00:00-04:00",
          "2024-07-31T00:00:00-04:00",
          "2024-08-01T00:00:00-04:00",
          "2024-08-02T00:00:00-04:00",
          "2024-08-05T00:00:00-04:00",
          "2024-08-06T00:00:00-04:00",
          "2024-08-07T00:00:00-04:00",
          "2024-08-08T00:00:00-04:00",
          "2024-08-09T00:00:00-04:00",
          "2024-08-12T00:00:00-04:00",
          "2024-08-13T00:00:00-04:00",
          "2024-08-14T00:00:00-04:00",
          "2024-08-15T00:00:00-04:00",
          "2024-08-16T00:00:00-04:00",
          "2024-08-19T00:00:00-04:00",
          "2024-08-20T00:00:00-04:00",
          "2024-08-21T00:00:00-04:00",
          "2024-08-22T00:00:00-04:00",
          "2024-08-23T00:00:00-04:00",
          "2024-08-26T00:00:00-04:00",
          "2024-08-27T00:00:00-04:00",
          "2024-08-28T00:00:00-04:00",
          "2024-08-29T00:00:00-04:00",
          "2024-08-30T00:00:00-04:00",
          "2024-09-03T00:00:00-04:00",
          "2024-09-04T00:00:00-04:00",
          "2024-09-05T00:00:00-04:00",
          "2024-09-06T00:00:00-04:00",
          "2024-09-09T00:00:00-04:00",
          "2024-09-10T00:00:00-04:00",
          "2024-09-11T00:00:00-04:00",
          "2024-09-12T00:00:00-04:00",
          "2024-09-13T00:00:00-04:00",
          "2024-09-16T00:00:00-04:00",
          "2024-09-17T00:00:00-04:00",
          "2024-09-18T00:00:00-04:00",
          "2024-09-19T00:00:00-04:00",
          "2024-09-20T00:00:00-04:00",
          "2024-09-23T00:00:00-04:00",
          "2024-09-24T00:00:00-04:00",
          "2024-09-25T00:00:00-04:00",
          "2024-09-26T00:00:00-04:00",
          "2024-09-27T00:00:00-04:00",
          "2024-09-30T00:00:00-04:00",
          "2024-10-01T00:00:00-04:00",
          "2024-10-02T00:00:00-04:00",
          "2024-10-03T00:00:00-04:00",
          "2024-10-04T00:00:00-04:00",
          "2024-10-07T00:00:00-04:00",
          "2024-10-08T00:00:00-04:00",
          "2024-10-09T00:00:00-04:00",
          "2024-10-10T00:00:00-04:00",
          "2024-10-11T00:00:00-04:00",
          "2024-10-14T00:00:00-04:00",
          "2024-10-15T00:00:00-04:00",
          "2024-10-16T00:00:00-04:00",
          "2024-10-17T00:00:00-04:00",
          "2024-10-18T00:00:00-04:00",
          "2024-10-21T00:00:00-04:00",
          "2024-10-22T00:00:00-04:00",
          "2024-10-23T00:00:00-04:00",
          "2024-10-24T00:00:00-04:00",
          "2024-10-25T00:00:00-04:00",
          "2024-10-28T00:00:00-04:00",
          "2024-10-29T00:00:00-04:00",
          "2024-10-30T00:00:00-04:00",
          "2024-10-31T00:00:00-04:00",
          "2024-11-01T00:00:00-04:00",
          "2024-11-04T00:00:00-05:00",
          "2024-11-05T00:00:00-05:00",
          "2024-11-06T00:00:00-05:00",
          "2024-11-07T00:00:00-05:00",
          "2024-11-08T00:00:00-05:00",
          "2024-11-11T00:00:00-05:00",
          "2024-11-12T00:00:00-05:00",
          "2024-11-13T00:00:00-05:00",
          "2024-11-14T00:00:00-05:00",
          "2024-11-15T00:00:00-05:00",
          "2024-11-18T00:00:00-05:00",
          "2024-11-19T00:00:00-05:00",
          "2024-11-20T00:00:00-05:00",
          "2024-11-21T00:00:00-05:00",
          "2024-11-22T00:00:00-05:00",
          "2024-11-25T00:00:00-05:00",
          "2024-11-26T00:00:00-05:00",
          "2024-11-27T00:00:00-05:00",
          "2024-11-29T00:00:00-05:00",
          "2024-12-02T00:00:00-05:00",
          "2024-12-03T00:00:00-05:00",
          "2024-12-04T00:00:00-05:00",
          "2024-12-05T00:00:00-05:00",
          "2024-12-06T00:00:00-05:00",
          "2024-12-09T00:00:00-05:00",
          "2024-12-10T00:00:00-05:00",
          "2024-12-11T00:00:00-05:00",
          "2024-12-12T00:00:00-05:00",
          "2024-12-13T00:00:00-05:00",
          "2024-12-16T00:00:00-05:00",
          "2024-12-17T00:00:00-05:00",
          "2024-12-18T00:00:00-05:00",
          "2024-12-19T00:00:00-05:00",
          "2024-12-20T00:00:00-05:00",
          "2024-12-23T00:00:00-05:00",
          "2024-12-24T00:00:00-05:00",
          "2024-12-26T00:00:00-05:00",
          "2024-12-27T00:00:00-05:00",
          "2024-12-30T00:00:00-05:00",
          "2024-12-31T00:00:00-05:00",
          "2025-01-02T00:00:00-05:00",
          "2025-01-03T00:00:00-05:00",
          "2025-01-06T00:00:00-05:00",
          "2025-01-07T00:00:00-05:00",
          "2025-01-08T00:00:00-05:00",
          "2025-01-10T00:00:00-05:00",
          "2025-01-13T00:00:00-05:00",
          "2025-01-14T00:00:00-05:00",
          "2025-01-15T00:00:00-05:00",
          "2025-01-16T00:00:00-05:00",
          "2025-01-17T00:00:00-05:00",
          "2025-01-21T00:00:00-05:00",
          "2025-01-22T00:00:00-05:00",
          "2025-01-23T00:00:00-05:00",
          "2025-01-24T00:00:00-05:00",
          "2025-01-27T00:00:00-05:00",
          "2025-01-28T00:00:00-05:00",
          "2025-01-29T00:00:00-05:00",
          "2025-01-30T00:00:00-05:00",
          "2025-01-31T00:00:00-05:00",
          "2025-02-03T00:00:00-05:00",
          "2025-02-04T00:00:00-05:00",
          "2025-02-05T00:00:00-05:00",
          "2025-02-06T00:00:00-05:00",
          "2025-02-07T00:00:00-05:00",
          "2025-02-10T00:00:00-05:00",
          "2025-02-11T00:00:00-05:00",
          "2025-02-12T00:00:00-05:00",
          "2025-02-13T00:00:00-05:00",
          "2025-02-14T00:00:00-05:00",
          "2025-02-18T00:00:00-05:00",
          "2025-02-19T00:00:00-05:00",
          "2025-02-20T00:00:00-05:00",
          "2025-02-21T00:00:00-05:00",
          "2025-02-24T00:00:00-05:00",
          "2025-02-25T00:00:00-05:00",
          "2025-02-26T00:00:00-05:00",
          "2025-02-27T00:00:00-05:00",
          "2025-02-28T00:00:00-05:00",
          "2025-03-03T00:00:00-05:00",
          "2025-03-04T00:00:00-05:00",
          "2025-03-05T00:00:00-05:00",
          "2025-03-06T00:00:00-05:00",
          "2025-03-07T00:00:00-05:00",
          "2025-03-10T00:00:00-04:00",
          "2025-03-11T00:00:00-04:00",
          "2025-03-12T00:00:00-04:00",
          "2025-03-13T00:00:00-04:00",
          "2025-03-14T00:00:00-04:00",
          "2025-03-17T00:00:00-04:00",
          "2025-03-18T00:00:00-04:00",
          "2025-03-19T00:00:00-04:00",
          "2025-03-20T00:00:00-04:00",
          "2025-03-21T00:00:00-04:00",
          "2025-03-24T00:00:00-04:00",
          "2025-03-25T00:00:00-04:00",
          "2025-03-26T00:00:00-04:00",
          "2025-03-27T00:00:00-04:00",
          "2025-03-28T00:00:00-04:00"
         ],
         "xaxis": "x2",
         "y": [
          4145250000,
          3930860000,
          4525120000,
          4234700000,
          4227800000,
          3968020000,
          3486690000,
          3423650000,
          3665830000,
          3633120000,
          3596590000,
          3575690000,
          3611180000,
          3536640000,
          3572560000,
          3772080000,
          3611750000,
          3290940000,
          3978640000,
          3837030000,
          3750550000,
          4087800000,
          3321370000,
          4486130000,
          4246510000,
          4920090000,
          4186270000,
          3641640000,
          3810140000,
          4057160000,
          3752900000,
          3533740000,
          3562170000,
          3654200000,
          4039080000,
          3980500000,
          4041900000,
          3728520000,
          4155320000,
          3739160000,
          4147760000,
          3715460000,
          4228510000,
          5980670000,
          4391860000,
          4454200000,
          3813290000,
          3996560000,
          4537800000,
          3826740000,
          3786510000,
          3945670000,
          4275400000,
          4252110000,
          4176690000,
          6848600000,
          4055790000,
          3709330000,
          3511000000,
          6053620000,
          3415030000,
          3573500000,
          3739330000,
          3696660000,
          3923450000,
          2034280000,
          3482620000,
          3682020000,
          3630480000,
          3429600000,
          3624220000,
          3920290000,
          3839530000,
          3647450000,
          3538240000,
          4090010000,
          4115670000,
          3761770000,
          3570190000,
          3856250000,
          3812470000,
          3990290000,
          4553210000,
          3981010000,
          4503600000,
          4042370000,
          4270710000,
          4149120000,
          4143310000,
          3493920000,
          3884910000,
          3803100000,
          4504370000,
          3753290000,
          3896410000,
          3832250000,
          3753910000,
          3943700000,
          3940400000,
          3726850000,
          3522760000,
          3837270000,
          3723470000,
          3296180000,
          2957230000,
          3354820000,
          3064110000,
          3946360000,
          3246260000,
          3526250000,
          3418850000,
          3763760000,
          3259290000,
          3369920000,
          3435740000,
          3529430000,
          3648720000,
          6932230000,
          3161230000,
          3614880000,
          3308450000,
          3662340000,
          3349570000,
          3195650000,
          3472340000,
          3875880000,
          3846230000,
          3865960000,
          3938660000,
          3953830000,
          3777600000,
          3581470000,
          3902030000,
          3174630000,
          3520240000,
          3601660000,
          3713140000,
          3566560000,
          3409960000,
          3794850000,
          3686030000,
          3969730000,
          4004030000,
          3776100000,
          3821820000,
          3869370000,
          4277640000,
          4019500000,
          3911140000,
          4249470000,
          4224900000,
          4669780000,
          4570960000,
          3656340000,
          3791230000,
          3729510000,
          3900780000,
          3665080000,
          3326240000,
          4700350000,
          4347170000,
          3964520000,
          3777240000,
          3644790000,
          3511080000,
          3042810000,
          1639500000,
          3403990000,
          3586240000,
          4418760000,
          5399300000,
          4397120000,
          4369910000,
          3909950000,
          4245680000,
          3818880000,
          3707010000,
          3823210000,
          3808380000,
          5063650000,
          6314040000,
          8218980000,
          4060340000,
          4026970000,
          4201320000,
          3431180000,
          3046770000,
          2513910000,
          2748450000,
          2698860000,
          3126060000,
          3743050000,
          3950760000,
          3715480000,
          3844370000,
          3742320000,
          3529960000,
          3498680000,
          3759890000,
          3486340000,
          4260550000,
          3928600000,
          4019000000,
          4287200000,
          4297610000,
          3912800000,
          4330030000,
          4020430000,
          3353400000,
          3525160000,
          3836130000,
          4696120000,
          4386090000,
          3974350000,
          4023640000,
          4440880000,
          4895590000,
          4341860000,
          3912990000,
          3805740000,
          4302190000,
          3845600000,
          4137970000,
          3833270000,
          4034880000,
          3788390000,
          4051710000,
          3672790000,
          3683930000,
          3925950000,
          3789370000,
          5219740000,
          4748110000,
          4758440000,
          4418410000,
          4559050000,
          4137980000,
          4208870000,
          3896430000,
          4080510000,
          4282890000,
          4687970000,
          7753670000,
          4036220000,
          4031760000,
          4064850000,
          4207730000,
          3374700000,
          3331360000,
          3871790000,
          3850500000,
          3998270000,
          3325930000,
          3886590000,
          3703250000,
          4075680000,
          3386780000,
          3278180000,
          3400680000,
          3845930000,
          3509380000,
          3963220000,
          3950210000,
          4006200000,
          3596130000,
          3619760000,
          3878750000,
          3820250000,
          3751400000,
          3656740000,
          3958050000,
          3604140000,
          3447450000,
          4082470000,
          4544170000,
          4381660000,
          3924990000,
          3683250000,
          3987890000,
          3842100000,
          3727370000,
          3617900000,
          4255710000,
          4763580000,
          4360810000,
          3817470000,
          3578120000,
          3420100000,
          3662240000,
          3847130000,
          3869520000,
          3005510000,
          3751540000,
          3552750000,
          3818750000,
          5437160000,
          4046920000,
          3707900000,
          3591460000,
          3609990000,
          3692760000,
          3622280000,
          3568030000,
          3962840000,
          3530380000,
          3438650000,
          3447840000,
          3544330000,
          3847060000,
          6773800000,
          3696750000,
          3591960000,
          3563920000,
          3589530000,
          7199220000,
          3488760000,
          3329950000,
          2179470000,
          3253080000,
          3185670000,
          3232920000,
          3336100000,
          4020950000,
          3700280000,
          3620470000,
          4041760000,
          4246450000,
          4007510000,
          3760570000,
          3375180000,
          3500210000,
          3945550000,
          4592120000,
          3638770000,
          3379970000,
          3777740000,
          4546910000,
          4703620000,
          5156450000,
          5333250000,
          4690190000,
          4558260000,
          4016830000,
          3516400000,
          3360160000,
          3648980000,
          3380050000,
          3723310000,
          3357690000,
          3222050000,
          2994420000,
          3119670000,
          2981530000,
          3291940000,
          2938570000,
          2798990000,
          3053450000,
          3065640000,
          4185850000,
          3866350000,
          3478140000,
          3521650000,
          3822800000,
          3825940000,
          3848180000,
          3839450000,
          3655070000,
          3500790000,
          3437070000,
          3443600000,
          3691390000,
          4024530000,
          7867260000,
          3529550000,
          3872710000,
          3624910000,
          4391180000,
          3898530000,
          4425730000,
          4025180000,
          3829050000,
          3597450000,
          3479400000,
          3637790000,
          3393400000,
          3650340000,
          3208790000,
          3208720000,
          3005250000,
          3882120000,
          3467230000,
          3480010000,
          3374490000,
          3407010000,
          3342080000,
          3532650000,
          3543030000,
          3501280000,
          3691280000,
          3879100000,
          3851120000,
          4425660000,
          3796450000,
          3602060000,
          3768310000,
          6329530000,
          4925740000,
          4666740000,
          4333000000,
          4243400000,
          4220180000,
          4184570000,
          4590960000,
          3983860000,
          4036940000,
          3772620000,
          4230120000,
          4141420000,
          5633150000,
          3835170000,
          3363340000,
          2444420000,
          4412470000,
          4095000000,
          4003390000,
          4212020000,
          3924830000,
          4556460000,
          4048410000,
          4269950000,
          3678010000,
          3584960000,
          4391100000,
          4544500000,
          5246960000,
          4896880000,
          8223220000,
          3593280000,
          1757720000,
          2904530000,
          3159610000,
          3433250000,
          3128350000,
          3621680000,
          3667340000,
          4940120000,
          4517330000,
          4441740000,
          4751930000,
          4421200000,
          4142280000,
          4544570000,
          4285810000,
          4366830000,
          4702920000,
          4323040000,
          4432250000,
          4214250000,
          5198750000,
          4473640000,
          4115310000,
          4634620000,
          4843770000,
          4797210000,
          4410160000,
          4756250000,
          4847120000,
          4766900000,
          4458760000,
          4324880000,
          4627960000,
          4763800000,
          4335190000,
          4684980000,
          4562330000,
          4813690000,
          5434560000,
          4990120000,
          5374690000,
          4869580000,
          5057680000,
          6441140000,
          5613850000,
          6138110000,
          5285970000,
          5165080000,
          5705140000,
          6409370000,
          6221240000,
          5219830000,
          5018980000,
          4863180000,
          5031770000,
          4666270000,
          4660090000,
          4678420000,
          9367460000,
          4517990000,
          4467340000,
          4183140000,
          4403460000,
          4513330000
         ],
         "yaxis": "y2"
        }
       ],
       "layout": {
        "height": 700,
        "showlegend": false,
        "template": {
         "data": {
          "bar": [
           {
            "error_x": {
             "color": "#2a3f5f"
            },
            "error_y": {
             "color": "#2a3f5f"
            },
            "marker": {
             "line": {
              "color": "#E5ECF6",
              "width": 0.5
             },
             "pattern": {
              "fillmode": "overlay",
              "size": 10,
              "solidity": 0.2
             }
            },
            "type": "bar"
           }
          ],
          "barpolar": [
           {
            "marker": {
             "line": {
              "color": "#E5ECF6",
              "width": 0.5
             },
             "pattern": {
              "fillmode": "overlay",
              "size": 10,
              "solidity": 0.2
             }
            },
            "type": "barpolar"
           }
          ],
          "carpet": [
           {
            "aaxis": {
             "endlinecolor": "#2a3f5f",
             "gridcolor": "white",
             "linecolor": "white",
             "minorgridcolor": "white",
             "startlinecolor": "#2a3f5f"
            },
            "baxis": {
             "endlinecolor": "#2a3f5f",
             "gridcolor": "white",
             "linecolor": "white",
             "minorgridcolor": "white",
             "startlinecolor": "#2a3f5f"
            },
            "type": "carpet"
           }
          ],
          "choropleth": [
           {
            "colorbar": {
             "outlinewidth": 0,
             "ticks": ""
            },
            "type": "choropleth"
           }
          ],
          "contour": [
           {
            "colorbar": {
             "outlinewidth": 0,
             "ticks": ""
            },
            "colorscale": [
             [
              0,
              "#0d0887"
             ],
             [
              0.1111111111111111,
              "#46039f"
             ],
             [
              0.2222222222222222,
              "#7201a8"
             ],
             [
              0.3333333333333333,
              "#9c179e"
             ],
             [
              0.4444444444444444,
              "#bd3786"
             ],
             [
              0.5555555555555556,
              "#d8576b"
             ],
             [
              0.6666666666666666,
              "#ed7953"
             ],
             [
              0.7777777777777778,
              "#fb9f3a"
             ],
             [
              0.8888888888888888,
              "#fdca26"
             ],
             [
              1,
              "#f0f921"
             ]
            ],
            "type": "contour"
           }
          ],
          "contourcarpet": [
           {
            "colorbar": {
             "outlinewidth": 0,
             "ticks": ""
            },
            "type": "contourcarpet"
           }
          ],
          "heatmap": [
           {
            "colorbar": {
             "outlinewidth": 0,
             "ticks": ""
            },
            "colorscale": [
             [
              0,
              "#0d0887"
             ],
             [
              0.1111111111111111,
              "#46039f"
             ],
             [
              0.2222222222222222,
              "#7201a8"
             ],
             [
              0.3333333333333333,
              "#9c179e"
             ],
             [
              0.4444444444444444,
              "#bd3786"
             ],
             [
              0.5555555555555556,
              "#d8576b"
             ],
             [
              0.6666666666666666,
              "#ed7953"
             ],
             [
              0.7777777777777778,
              "#fb9f3a"
             ],
             [
              0.8888888888888888,
              "#fdca26"
             ],
             [
              1,
              "#f0f921"
             ]
            ],
            "type": "heatmap"
           }
          ],
          "histogram": [
           {
            "marker": {
             "pattern": {
              "fillmode": "overlay",
              "size": 10,
              "solidity": 0.2
             }
            },
            "type": "histogram"
           }
          ],
          "histogram2d": [
           {
            "colorbar": {
             "outlinewidth": 0,
             "ticks": ""
            },
            "colorscale": [
             [
              0,
              "#0d0887"
             ],
             [
              0.1111111111111111,
              "#46039f"
             ],
             [
              0.2222222222222222,
              "#7201a8"
             ],
             [
              0.3333333333333333,
              "#9c179e"
             ],
             [
              0.4444444444444444,
              "#bd3786"
             ],
             [
              0.5555555555555556,
              "#d8576b"
             ],
             [
              0.6666666666666666,
              "#ed7953"
             ],
             [
              0.7777777777777778,
              "#fb9f3a"
             ],
             [
              0.8888888888888888,
              "#fdca26"
             ],
             [
              1,
              "#f0f921"
             ]
            ],
            "type": "histogram2d"
           }
          ],
          "histogram2dcontour": [
           {
            "colorbar": {
             "outlinewidth": 0,
             "ticks": ""
            },
            "colorscale": [
             [
              0,
              "#0d0887"
             ],
             [
              0.1111111111111111,
              "#46039f"
             ],
             [
              0.2222222222222222,
              "#7201a8"
             ],
             [
              0.3333333333333333,
              "#9c179e"
             ],
             [
              0.4444444444444444,
              "#bd3786"
             ],
             [
              0.5555555555555556,
              "#d8576b"
             ],
             [
              0.6666666666666666,
              "#ed7953"
             ],
             [
              0.7777777777777778,
              "#fb9f3a"
             ],
             [
              0.8888888888888888,
              "#fdca26"
             ],
             [
              1,
              "#f0f921"
             ]
            ],
            "type": "histogram2dcontour"
           }
          ],
          "mesh3d": [
           {
            "colorbar": {
             "outlinewidth": 0,
             "ticks": ""
            },
            "type": "mesh3d"
           }
          ],
          "parcoords": [
           {
            "line": {
             "colorbar": {
              "outlinewidth": 0,
              "ticks": ""
             }
            },
            "type": "parcoords"
           }
          ],
          "pie": [
           {
            "automargin": true,
            "type": "pie"
           }
          ],
          "scatter": [
           {
            "fillpattern": {
             "fillmode": "overlay",
             "size": 10,
             "solidity": 0.2
            },
            "type": "scatter"
           }
          ],
          "scatter3d": [
           {
            "line": {
             "colorbar": {
              "outlinewidth": 0,
              "ticks": ""
             }
            },
            "marker": {
             "colorbar": {
              "outlinewidth": 0,
              "ticks": ""
             }
            },
            "type": "scatter3d"
           }
          ],
          "scattercarpet": [
           {
            "marker": {
             "colorbar": {
              "outlinewidth": 0,
              "ticks": ""
             }
            },
            "type": "scattercarpet"
           }
          ],
          "scattergeo": [
           {
            "marker": {
             "colorbar": {
              "outlinewidth": 0,
              "ticks": ""
             }
            },
            "type": "scattergeo"
           }
          ],
          "scattergl": [
           {
            "marker": {
             "colorbar": {
              "outlinewidth": 0,
              "ticks": ""
             }
            },
            "type": "scattergl"
           }
          ],
          "scattermap": [
           {
            "marker": {
             "colorbar": {
              "outlinewidth": 0,
              "ticks": ""
             }
            },
            "type": "scattermap"
           }
          ],
          "scattermapbox": [
           {
            "marker": {
             "colorbar": {
              "outlinewidth": 0,
              "ticks": ""
             }
            },
            "type": "scattermapbox"
           }
          ],
          "scatterpolar": [
           {
            "marker": {
             "colorbar": {
              "outlinewidth": 0,
              "ticks": ""
             }
            },
            "type": "scatterpolar"
           }
          ],
          "scatterpolargl": [
           {
            "marker": {
             "colorbar": {
              "outlinewidth": 0,
              "ticks": ""
             }
            },
            "type": "scatterpolargl"
           }
          ],
          "scatterternary": [
           {
            "marker": {
             "colorbar": {
              "outlinewidth": 0,
              "ticks": ""
             }
            },
            "type": "scatterternary"
           }
          ],
          "surface": [
           {
            "colorbar": {
             "outlinewidth": 0,
             "ticks": ""
            },
            "colorscale": [
             [
              0,
              "#0d0887"
             ],
             [
              0.1111111111111111,
              "#46039f"
             ],
             [
              0.2222222222222222,
              "#7201a8"
             ],
             [
              0.3333333333333333,
              "#9c179e"
             ],
             [
              0.4444444444444444,
              "#bd3786"
             ],
             [
              0.5555555555555556,
              "#d8576b"
             ],
             [
              0.6666666666666666,
              "#ed7953"
             ],
             [
              0.7777777777777778,
              "#fb9f3a"
             ],
             [
              0.8888888888888888,
              "#fdca26"
             ],
             [
              1,
              "#f0f921"
             ]
            ],
            "type": "surface"
           }
          ],
          "table": [
           {
            "cells": {
             "fill": {
              "color": "#EBF0F8"
             },
             "line": {
              "color": "white"
             }
            },
            "header": {
             "fill": {
              "color": "#C8D4E3"
             },
             "line": {
              "color": "white"
             }
            },
            "type": "table"
           }
          ]
         },
         "layout": {
          "annotationdefaults": {
           "arrowcolor": "#2a3f5f",
           "arrowhead": 0,
           "arrowwidth": 1
          },
          "autotypenumbers": "strict",
          "coloraxis": {
           "colorbar": {
            "outlinewidth": 0,
            "ticks": ""
           }
          },
          "colorscale": {
           "diverging": [
            [
             0,
             "#8e0152"
            ],
            [
             0.1,
             "#c51b7d"
            ],
            [
             0.2,
             "#de77ae"
            ],
            [
             0.3,
             "#f1b6da"
            ],
            [
             0.4,
             "#fde0ef"
            ],
            [
             0.5,
             "#f7f7f7"
            ],
            [
             0.6,
             "#e6f5d0"
            ],
            [
             0.7,
             "#b8e186"
            ],
            [
             0.8,
             "#7fbc41"
            ],
            [
             0.9,
             "#4d9221"
            ],
            [
             1,
             "#276419"
            ]
           ],
           "sequential": [
            [
             0,
             "#0d0887"
            ],
            [
             0.1111111111111111,
             "#46039f"
            ],
            [
             0.2222222222222222,
             "#7201a8"
            ],
            [
             0.3333333333333333,
             "#9c179e"
            ],
            [
             0.4444444444444444,
             "#bd3786"
            ],
            [
             0.5555555555555556,
             "#d8576b"
            ],
            [
             0.6666666666666666,
             "#ed7953"
            ],
            [
             0.7777777777777778,
             "#fb9f3a"
            ],
            [
             0.8888888888888888,
             "#fdca26"
            ],
            [
             1,
             "#f0f921"
            ]
           ],
           "sequentialminus": [
            [
             0,
             "#0d0887"
            ],
            [
             0.1111111111111111,
             "#46039f"
            ],
            [
             0.2222222222222222,
             "#7201a8"
            ],
            [
             0.3333333333333333,
             "#9c179e"
            ],
            [
             0.4444444444444444,
             "#bd3786"
            ],
            [
             0.5555555555555556,
             "#d8576b"
            ],
            [
             0.6666666666666666,
             "#ed7953"
            ],
            [
             0.7777777777777778,
             "#fb9f3a"
            ],
            [
             0.8888888888888888,
             "#fdca26"
            ],
            [
             1,
             "#f0f921"
            ]
           ]
          },
          "colorway": [
           "#636efa",
           "#EF553B",
           "#00cc96",
           "#ab63fa",
           "#FFA15A",
           "#19d3f3",
           "#FF6692",
           "#B6E880",
           "#FF97FF",
           "#FECB52"
          ],
          "font": {
           "color": "#2a3f5f"
          },
          "geo": {
           "bgcolor": "white",
           "lakecolor": "white",
           "landcolor": "#E5ECF6",
           "showlakes": true,
           "showland": true,
           "subunitcolor": "white"
          },
          "hoverlabel": {
           "align": "left"
          },
          "hovermode": "closest",
          "mapbox": {
           "style": "light"
          },
          "paper_bgcolor": "white",
          "plot_bgcolor": "#E5ECF6",
          "polar": {
           "angularaxis": {
            "gridcolor": "white",
            "linecolor": "white",
            "ticks": ""
           },
           "bgcolor": "#E5ECF6",
           "radialaxis": {
            "gridcolor": "white",
            "linecolor": "white",
            "ticks": ""
           }
          },
          "scene": {
           "xaxis": {
            "backgroundcolor": "#E5ECF6",
            "gridcolor": "white",
            "gridwidth": 2,
            "linecolor": "white",
            "showbackground": true,
            "ticks": "",
            "zerolinecolor": "white"
           },
           "yaxis": {
            "backgroundcolor": "#E5ECF6",
            "gridcolor": "white",
            "gridwidth": 2,
            "linecolor": "white",
            "showbackground": true,
            "ticks": "",
            "zerolinecolor": "white"
           },
           "zaxis": {
            "backgroundcolor": "#E5ECF6",
            "gridcolor": "white",
            "gridwidth": 2,
            "linecolor": "white",
            "showbackground": true,
            "ticks": "",
            "zerolinecolor": "white"
           }
          },
          "shapedefaults": {
           "line": {
            "color": "#2a3f5f"
           }
          },
          "ternary": {
           "aaxis": {
            "gridcolor": "white",
            "linecolor": "white",
            "ticks": ""
           },
           "baxis": {
            "gridcolor": "white",
            "linecolor": "white",
            "ticks": ""
           },
           "bgcolor": "#E5ECF6",
           "caxis": {
            "gridcolor": "white",
            "linecolor": "white",
            "ticks": ""
           }
          },
          "title": {
           "x": 0.05
          },
          "xaxis": {
           "automargin": true,
           "gridcolor": "white",
           "linecolor": "white",
           "ticks": "",
           "title": {
            "standoff": 15
           },
           "zerolinecolor": "white",
           "zerolinewidth": 2
          },
          "yaxis": {
           "automargin": true,
           "gridcolor": "white",
           "linecolor": "white",
           "ticks": "",
           "title": {
            "standoff": 15
           },
           "zerolinecolor": "white",
           "zerolinewidth": 2
          }
         }
        },
        "title": {
         "text": "S&P 500 Candlestick Chart with Volume"
        },
        "xaxis": {
         "anchor": "y",
         "domain": [
          0,
          1
         ],
         "matches": "x2",
         "rangebreaks": [
          {
           "bounds": [
            "sat",
            "mon"
           ]
          }
         ],
         "rangeslider": {
          "visible": false
         },
         "showticklabels": false
        },
        "xaxis2": {
         "anchor": "y2",
         "domain": [
          0,
          1
         ],
         "rangebreaks": [
          {
           "bounds": [
            "sat",
            "mon"
           ]
          }
         ],
         "rangeslider": {
          "visible": false
         },
         "title": {
          "text": "Date"
         }
        },
        "yaxis": {
         "anchor": "x",
         "domain": [
          0.33499999999999996,
          0.9999999999999999
         ],
         "title": {
          "text": "Price (USD)"
         }
        },
        "yaxis2": {
         "anchor": "x2",
         "domain": [
          0,
          0.285
         ],
         "title": {
          "text": "Volume"
         }
        }
       }
      }
     },
     "metadata": {},
     "output_type": "display_data"
    }
   ],
   "source": [
    "sp500 = yf.Ticker(\"^GSPC\")\n",
    "df = sp500.history(period=\"2y\")\n",
    "\n",
    "# Create subplots with shared x-axis\n",
    "fig = make_subplots(rows=2, cols=1, \n",
    "                   shared_xaxes=True, \n",
    "                   vertical_spacing=0.05,\n",
    "                   row_heights=[0.7, 0.3])\n",
    "\n",
    "# Create chart\n",
    "fig.add_trace(go.Candlestick(\n",
    "    x=df.index,\n",
    "    open=df['Open'],\n",
    "    high=df['High'],\n",
    "    low=df['Low'],\n",
    "    close=df['Close'],\n",
    "    name='Price',\n",
    "    increasing_line_color='green',\n",
    "    decreasing_line_color='red'\n",
    "), row=1, col=1)\n",
    "\n",
    "# Add volume bar chart\n",
    "fig.add_trace(go.Bar(\n",
    "    x=df.index,\n",
    "    y=df['Volume'],\n",
    "    name='Volume',\n",
    "    marker_color='darkblue'  # Cornflower blue with transparency\n",
    "), row=2, col=1)\n",
    "\n",
    "# Update layout\n",
    "fig.update_layout(\n",
    "    title='S&P 500 Candlestick Chart with Volume',\n",
    "    yaxis_title='Price (USD)',\n",
    "    xaxis_rangeslider_visible=False,\n",
    "    height=700,\n",
    "    showlegend=False\n",
    ")\n",
    "\n",
    "# Format axes\n",
    "fig.update_yaxes(title_text=\"Volume\", row=2, col=1)\n",
    "fig.update_xaxes(title_text=\"Date\", row=2, col=1)\n",
    "\n",
    "# Hide weekends and holidays (gaps in trading)\n",
    "fig.update_xaxes(\n",
    "    rangebreaks=[{'bounds': ['sat', 'mon']}],  # hide weekends\n",
    "    rangeslider_visible=False\n",
    ")\n",
    "\n",
    "fig.show()"
   ]
  }
 ],
 "metadata": {
  "kernelspec": {
   "display_name": "Python 3",
   "language": "python",
   "name": "python3"
  },
  "language_info": {
   "codemirror_mode": {
    "name": "ipython",
    "version": 3
   },
   "file_extension": ".py",
   "mimetype": "text/x-python",
   "name": "python",
   "nbconvert_exporter": "python",
   "pygments_lexer": "ipython3",
   "version": "3.13.2"
  }
 },
 "nbformat": 4,
 "nbformat_minor": 5
}
